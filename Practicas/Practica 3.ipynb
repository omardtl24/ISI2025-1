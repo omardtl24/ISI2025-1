{
 "cells": [
  {
   "cell_type": "markdown",
   "metadata": {},
   "source": [
    "# Práctica 3"
   ]
  },
  {
   "cell_type": "markdown",
   "metadata": {},
   "source": [
    "Considere un problema de búsqueda con estados $\\{A, B, C, D, E, F, G, H, I, J\\}$ . Donde $A$ es el\n",
    "estado inicial y J el único estado objetivo. Las acciones que se pueden ejecutar en cada estado se\n",
    "especifican por una pareja $(s, c)$ donde $s$ es el estado resultante de ejecutar la acción y $c$ es el costo\n",
    "de la acción:\n",
    "\n",
    "\\begin{align*}\n",
    "A(h=8)   &: (B, 4),\\ (E, 2),\\ (H, 3) \\\\\n",
    "B(h=3)   &: (C, 4),\\ (D, 2),\\ (E, 1),\\ (G, 4),\\ (I, 5) \\\\\n",
    "C(h=2)   &: (E, 1),\\ (F, 3),\\ (G, 3),\\ (I, 2) \\\\\n",
    "D(h=4)   &: (A, 3),\\ (C, 2),\\ (E, 5),\\ (F, 4),\\ (H, 5) \\\\\n",
    "E(h=10)  &: (D, 5) \\\\\n",
    "F(h=10)  &: (B, 4),\\ (H, 5) \\\\\n",
    "G(h=13)  &: (H, 1) \\\\\n",
    "H(h=12)  &: (F, 4),\\ (G, 2) \\\\\n",
    "I(h=0)   &: (C, 5),\\ (G, 1),\\ (H, 4),\\ (J, 1) \\\\\n",
    "J(h=0)   &: \\\\\n",
    "\\end{align*}\n",
    "\n",
    "El valor en paréntesis al frente de cada estado corresponde al valor de la heurística h."
   ]
  },
  {
   "cell_type": "code",
   "execution_count": 9,
   "metadata": {},
   "outputs": [],
   "source": [
    "def get_structure(s):\n",
    "    new_s = [a for a,_ in s]\n",
    "    return new_s\n",
    "\n",
    "class Graph:\n",
    "    def __init__(self,costed_edges,heuristics):\n",
    "        self.costed_edges = costed_edges\n",
    "        self.heuristics = heuristics\n",
    "\n",
    "        self.adj_list = {i:set() for i in self.heuristics}\n",
    "\n",
    "        for a,b in costed_edges.keys():\n",
    "            self.adj_list[a].add(b)\n",
    "\n",
    "    def defineSortCriteria(self,option = None):\n",
    "        flag = False\n",
    "        if option == 'ascending label':\n",
    "            for node, adj in self.adj_list.items():\n",
    "                l = list(adj)\n",
    "                l.sort()\n",
    "                self.adj_list[node] = l\n",
    "            flag = True\n",
    "        elif option == 'descending label':\n",
    "            for node, adj in self.adj_list.items():\n",
    "                l = list(adj)\n",
    "                l.sort(reverse = True)\n",
    "                self.adj_list[node] = l\n",
    "            flag = True\n",
    "        elif option is None:\n",
    "            for node, adj in self.adj_list.items():\n",
    "                l = list(adj)\n",
    "                self.adj_list[node] = l\n",
    "            flag = True\n",
    "        return flag\n",
    "\n",
    "    def contains(self,node):\n",
    "        return node in self.adj_list.keys()\n",
    "    \n",
    "    def h(self,node):\n",
    "        if node not in self.heuristics.keys(): return None\n",
    "        return self.heuristics[node]\n",
    "\n",
    "    def cost(self,a,b):\n",
    "        if (a,b) not in self.costed_edges.keys(): return None\n",
    "        return  self.costed_edges[(a,b)]\n",
    "\n",
    "    def adj(self,node):\n",
    "        if node not in self.adj_list.keys(): return None\n",
    "        return self.adj_list[node]\n",
    "    \n",
    "    def print_structure(self):\n",
    "        nodes = sorted(self.adj_list.keys())\n",
    "        max_name_len = max(len(str(n)) for n in nodes)\n",
    "        max_h_len = max(len(str(self.h(n))) for n in nodes)\n",
    "        for node in nodes:\n",
    "            neighbours = sorted(self.adj(node))\n",
    "            strings = [f'({n},{self.cost(node,n)})' for n in neighbours]\n",
    "            s = ', '.join(strings)\n",
    "            node_str = str(node).ljust(max_name_len)\n",
    "            h_str = str(self.h(node)).rjust(max_h_len)\n",
    "            print(f'{node_str}(h = {h_str})  :  {s}')\n"
   ]
  },
  {
   "cell_type": "code",
   "execution_count": 10,
   "metadata": {},
   "outputs": [
    {
     "name": "stdout",
     "output_type": "stream",
     "text": [
      "A(h =  8)  :  (B,4), (E,2), (H,3)\n",
      "B(h =  3)  :  (C,4), (D,2), (E,1), (G,4), (I,5)\n",
      "C(h =  2)  :  (E,1), (F,3), (G,3), (I,2)\n",
      "D(h =  4)  :  (A,3), (C,2), (E,5), (F,4), (H,5)\n",
      "E(h = 10)  :  (D,5)\n",
      "F(h = 10)  :  (B,4), (H,5)\n",
      "G(h = 13)  :  (H,1)\n",
      "H(h = 12)  :  (F,4), (G,2)\n",
      "I(h =  0)  :  (C,5), (G,1), (H,4), (J,1)\n",
      "J(h =  0)  :  \n"
     ]
    }
   ],
   "source": [
    "h = {\n",
    "    'A': 8, 'B': 3, 'C': 2, 'D': 4, 'E': 10,\n",
    "    'F': 10, 'G': 13, 'H': 12, 'I': 0, 'J': 0\n",
    "}\n",
    "\n",
    "c = {\n",
    "    ('A', 'B'): 4, ('A', 'E'): 2, ('A', 'H'): 3,\n",
    "    ('B', 'C'): 4, ('B', 'D'): 2, ('B', 'E'): 1, ('B', 'G'): 4, ('B', 'I'): 5,\n",
    "    ('C', 'E'): 1, ('C', 'F'): 3, ('C', 'G'): 3, ('C', 'I'): 2,\n",
    "    ('D', 'A'): 3, ('D', 'C'): 2, ('D', 'E'): 5, ('D', 'F'): 4, ('D', 'H'): 5,\n",
    "    ('E', 'D'): 5,\n",
    "    ('F', 'B'): 4, ('F', 'H'): 5,\n",
    "    ('G', 'H'): 1,\n",
    "    ('H', 'F'): 4, ('H', 'G'): 2,\n",
    "    ('I', 'C'): 5, ('I', 'G'): 1, ('I', 'H'): 4, ('I', 'J'): 1\n",
    "}\n",
    "\n",
    "G = Graph(c,h)\n",
    "G.print_structure()"
   ]
  },
  {
   "cell_type": "markdown",
   "metadata": {},
   "source": [
    "## 1. Búsqueda en profundidad (DFS)"
   ]
  },
  {
   "cell_type": "markdown",
   "metadata": {},
   "source": [
    "Ejecute búsqueda en profundidad, teniendo en cuenta que las estados entran a la pila en orden inverso de su etiqueta, de manera que al extraerlos de la pila saldría el estado con menor etiqueta. Igualmente, tenga en cuenta que el algoritmo de búsqueda previene ciclos llevando una lista de nodos alcanzados (reached)."
   ]
  },
  {
   "cell_type": "code",
   "execution_count": 11,
   "metadata": {},
   "outputs": [],
   "source": [
    "def DFSearch(G,start,end, criteria = None, verbose = False):\n",
    "    assert G.contains(start) and G.contains(end) and G.defineSortCriteria(option = criteria)\n",
    "    stack = [(start , [start])]\n",
    "    out = []\n",
    "    reached = set()\n",
    "    while len(stack) > 0:\n",
    "        if verbose: \n",
    "            fridge = get_structure(stack)\n",
    "            print(f'Out: {fridge[-1]}  -  Fridge: {fridge}')\n",
    "        cur,path = stack.pop()\n",
    "        out.append(cur)\n",
    "        if cur == end:\n",
    "            if verbose: print(f'\\nOut order: {\" \".join(out)}') \n",
    "            return path\n",
    "        if cur not in reached:\n",
    "            reached.add(cur)\n",
    "            for node in G.adj(cur):\n",
    "                stack.append((node , path + [node]))\n",
    "    if verbose: print(f'\\nOut order: {\" \".join(out)}')\n",
    "    return None"
   ]
  },
  {
   "cell_type": "code",
   "execution_count": 20,
   "metadata": {},
   "outputs": [
    {
     "name": "stdout",
     "output_type": "stream",
     "text": [
      "Out: A  -  Fridge: ['A']\n",
      "Out: B  -  Fridge: ['H', 'E', 'B']\n",
      "Out: C  -  Fridge: ['H', 'E', 'I', 'G', 'E', 'D', 'C']\n",
      "Out: E  -  Fridge: ['H', 'E', 'I', 'G', 'E', 'D', 'I', 'G', 'F', 'E']\n",
      "Out: D  -  Fridge: ['H', 'E', 'I', 'G', 'E', 'D', 'I', 'G', 'F', 'D']\n",
      "Out: A  -  Fridge: ['H', 'E', 'I', 'G', 'E', 'D', 'I', 'G', 'F', 'H', 'F', 'E', 'C', 'A']\n",
      "Out: C  -  Fridge: ['H', 'E', 'I', 'G', 'E', 'D', 'I', 'G', 'F', 'H', 'F', 'E', 'C']\n",
      "Out: E  -  Fridge: ['H', 'E', 'I', 'G', 'E', 'D', 'I', 'G', 'F', 'H', 'F', 'E']\n",
      "Out: F  -  Fridge: ['H', 'E', 'I', 'G', 'E', 'D', 'I', 'G', 'F', 'H', 'F']\n",
      "Out: B  -  Fridge: ['H', 'E', 'I', 'G', 'E', 'D', 'I', 'G', 'F', 'H', 'H', 'B']\n",
      "Out: H  -  Fridge: ['H', 'E', 'I', 'G', 'E', 'D', 'I', 'G', 'F', 'H', 'H']\n",
      "Out: F  -  Fridge: ['H', 'E', 'I', 'G', 'E', 'D', 'I', 'G', 'F', 'H', 'G', 'F']\n",
      "Out: G  -  Fridge: ['H', 'E', 'I', 'G', 'E', 'D', 'I', 'G', 'F', 'H', 'G']\n",
      "Out: H  -  Fridge: ['H', 'E', 'I', 'G', 'E', 'D', 'I', 'G', 'F', 'H', 'H']\n",
      "Out: H  -  Fridge: ['H', 'E', 'I', 'G', 'E', 'D', 'I', 'G', 'F', 'H']\n",
      "Out: F  -  Fridge: ['H', 'E', 'I', 'G', 'E', 'D', 'I', 'G', 'F']\n",
      "Out: G  -  Fridge: ['H', 'E', 'I', 'G', 'E', 'D', 'I', 'G']\n",
      "Out: I  -  Fridge: ['H', 'E', 'I', 'G', 'E', 'D', 'I']\n",
      "Out: C  -  Fridge: ['H', 'E', 'I', 'G', 'E', 'D', 'J', 'H', 'G', 'C']\n",
      "Out: G  -  Fridge: ['H', 'E', 'I', 'G', 'E', 'D', 'J', 'H', 'G']\n",
      "Out: H  -  Fridge: ['H', 'E', 'I', 'G', 'E', 'D', 'J', 'H']\n",
      "Out: J  -  Fridge: ['H', 'E', 'I', 'G', 'E', 'D', 'J']\n",
      "\n",
      "Out order: A B C E D A C E F B H F G H H F G I C G H J\n",
      "\n",
      "Final path found: A -> B -> C -> I -> J\n"
     ]
    }
   ],
   "source": [
    "path = DFSearch(G,'A','J',verbose = True, criteria = 'descending label')\n",
    "if path: print('\\nFinal path found: '+' -> '.join(path))"
   ]
  },
  {
   "cell_type": "markdown",
   "metadata": {},
   "source": [
    "## 2. Búsqueda en amplitud (BFS)"
   ]
  },
  {
   "cell_type": "markdown",
   "metadata": {},
   "source": [
    "Ejecute búsqueda en amplitud, teniendo en cuenta que las estados entran a la cola en el orden\n",
    "de su etiqueta."
   ]
  },
  {
   "cell_type": "code",
   "execution_count": 13,
   "metadata": {},
   "outputs": [],
   "source": [
    "def BFSearch(G,start,end, criteria = None, verbose = False):\n",
    "    assert G.contains(start) and G.contains(end) and G.defineSortCriteria(option = criteria)\n",
    "    queue = [(start , [start])]\n",
    "    out = []\n",
    "    reached = set()\n",
    "    while len(queue) > 0:\n",
    "        if verbose: \n",
    "            fridge = get_structure(queue)\n",
    "            print(f'Out: {fridge[0]}  -  Fridge: {fridge}')\n",
    "        cur,path = queue.pop(0)\n",
    "        out.append(cur)\n",
    "        if cur == end:\n",
    "            if verbose: print(f'\\nOut order: {\" \".join(out)}')\n",
    "            return path\n",
    "        if cur not in reached:\n",
    "            reached.add(cur)\n",
    "            for node in G.adj(cur):\n",
    "                queue.append((node , path + [node]))\n",
    "    return None"
   ]
  },
  {
   "cell_type": "code",
   "execution_count": 21,
   "metadata": {},
   "outputs": [
    {
     "name": "stdout",
     "output_type": "stream",
     "text": [
      "Out: A  -  Fridge: ['A']\n",
      "Out: B  -  Fridge: ['B', 'E', 'H']\n",
      "Out: E  -  Fridge: ['E', 'H', 'C', 'D', 'E', 'G', 'I']\n",
      "Out: H  -  Fridge: ['H', 'C', 'D', 'E', 'G', 'I', 'D']\n",
      "Out: C  -  Fridge: ['C', 'D', 'E', 'G', 'I', 'D', 'F', 'G']\n",
      "Out: D  -  Fridge: ['D', 'E', 'G', 'I', 'D', 'F', 'G', 'E', 'F', 'G', 'I']\n",
      "Out: E  -  Fridge: ['E', 'G', 'I', 'D', 'F', 'G', 'E', 'F', 'G', 'I', 'A', 'C', 'E', 'F', 'H']\n",
      "Out: G  -  Fridge: ['G', 'I', 'D', 'F', 'G', 'E', 'F', 'G', 'I', 'A', 'C', 'E', 'F', 'H']\n",
      "Out: I  -  Fridge: ['I', 'D', 'F', 'G', 'E', 'F', 'G', 'I', 'A', 'C', 'E', 'F', 'H', 'H']\n",
      "Out: D  -  Fridge: ['D', 'F', 'G', 'E', 'F', 'G', 'I', 'A', 'C', 'E', 'F', 'H', 'H', 'C', 'G', 'H', 'J']\n",
      "Out: F  -  Fridge: ['F', 'G', 'E', 'F', 'G', 'I', 'A', 'C', 'E', 'F', 'H', 'H', 'C', 'G', 'H', 'J']\n",
      "Out: G  -  Fridge: ['G', 'E', 'F', 'G', 'I', 'A', 'C', 'E', 'F', 'H', 'H', 'C', 'G', 'H', 'J', 'B', 'H']\n",
      "Out: E  -  Fridge: ['E', 'F', 'G', 'I', 'A', 'C', 'E', 'F', 'H', 'H', 'C', 'G', 'H', 'J', 'B', 'H']\n",
      "Out: F  -  Fridge: ['F', 'G', 'I', 'A', 'C', 'E', 'F', 'H', 'H', 'C', 'G', 'H', 'J', 'B', 'H']\n",
      "Out: G  -  Fridge: ['G', 'I', 'A', 'C', 'E', 'F', 'H', 'H', 'C', 'G', 'H', 'J', 'B', 'H']\n",
      "Out: I  -  Fridge: ['I', 'A', 'C', 'E', 'F', 'H', 'H', 'C', 'G', 'H', 'J', 'B', 'H']\n",
      "Out: A  -  Fridge: ['A', 'C', 'E', 'F', 'H', 'H', 'C', 'G', 'H', 'J', 'B', 'H']\n",
      "Out: C  -  Fridge: ['C', 'E', 'F', 'H', 'H', 'C', 'G', 'H', 'J', 'B', 'H']\n",
      "Out: E  -  Fridge: ['E', 'F', 'H', 'H', 'C', 'G', 'H', 'J', 'B', 'H']\n",
      "Out: F  -  Fridge: ['F', 'H', 'H', 'C', 'G', 'H', 'J', 'B', 'H']\n",
      "Out: H  -  Fridge: ['H', 'H', 'C', 'G', 'H', 'J', 'B', 'H']\n",
      "Out: H  -  Fridge: ['H', 'C', 'G', 'H', 'J', 'B', 'H']\n",
      "Out: C  -  Fridge: ['C', 'G', 'H', 'J', 'B', 'H']\n",
      "Out: G  -  Fridge: ['G', 'H', 'J', 'B', 'H']\n",
      "Out: H  -  Fridge: ['H', 'J', 'B', 'H']\n",
      "Out: J  -  Fridge: ['J', 'B', 'H']\n",
      "\n",
      "Out order: A B E H C D E G I D F G E F G I A C E F H H C G H J\n",
      "\n",
      "Final path found: A -> B -> I -> J\n"
     ]
    }
   ],
   "source": [
    "path = BFSearch(G,'A','J',verbose = True, criteria = 'ascending label')\n",
    "if path: print('\\nFinal path found: '+' -> '.join(path))"
   ]
  },
  {
   "cell_type": "markdown",
   "metadata": {},
   "source": [
    "## 3. Búsqueda de costo uniforme (UCS)"
   ]
  },
  {
   "cell_type": "markdown",
   "metadata": {},
   "source": [
    "Ahora ejecute búsqueda de costo uniforme. Tenga en cuenta que si hay empates en la cola de prioridad se extrae el estado con menor etiqueta."
   ]
  },
  {
   "cell_type": "code",
   "execution_count": 15,
   "metadata": {},
   "outputs": [],
   "source": [
    "import heapq\n",
    "\n",
    "def UCSearch(G,start,end, criteria = None, verbose = False):\n",
    "    assert G.contains(start) and G.contains(end) and G.defineSortCriteria(option = criteria)\n",
    "    pq = []\n",
    "    out = []\n",
    "    heapq.heappush(pq,(0,(start , [start])))\n",
    "    reached = set()\n",
    "    while len(pq) > 0:\n",
    "        cost ,(cur,path) = heapq.heappop(pq)\n",
    "        out.append(cur)\n",
    "        if cur == end:\n",
    "            if verbose: print(f'Out order: {\" \".join(out)}') \n",
    "            return path\n",
    "        if cur not in reached:\n",
    "            reached.add(cur)\n",
    "            for node in G.adj(cur):\n",
    "                heapq.heappush(pq,(cost + G.cost(cur,node),(node , path + [node])))\n",
    "    if verbose: print(f'\\nOut order: {\" \".join(out)}') \n",
    "    return None"
   ]
  },
  {
   "cell_type": "code",
   "execution_count": 16,
   "metadata": {},
   "outputs": [
    {
     "name": "stdout",
     "output_type": "stream",
     "text": [
      "Out order: A E H B E G D H D F C C G A E I F G I J\n",
      "\n",
      "Final path found: A -> B -> I -> J\n"
     ]
    }
   ],
   "source": [
    "path = UCSearch(G,'A','J',verbose = True)\n",
    "if path: print('\\nFinal path found: '+' -> '.join(path))"
   ]
  },
  {
   "cell_type": "markdown",
   "metadata": {},
   "source": [
    "## 4. Búsqueda $A^*$"
   ]
  },
  {
   "cell_type": "markdown",
   "metadata": {},
   "source": [
    "Finalmente ejecute búsqueda $A∗$. Tenga en cuenta que si hay empates en la cola de prioridad se extrae el estado con menor etiqueta."
   ]
  },
  {
   "cell_type": "code",
   "execution_count": 17,
   "metadata": {},
   "outputs": [],
   "source": [
    "import heapq\n",
    "\n",
    "def AStarSearch(G,start,end, criteria = None, verbose = False):\n",
    "    assert G.contains(start) and G.contains(end) and G.defineSortCriteria(option = criteria)\n",
    "    pq = []\n",
    "    out = []\n",
    "    heapq.heappush(pq,(0,(start , [start])))\n",
    "    reached = set()\n",
    "    while len(pq) > 0:\n",
    "        cost ,(cur,path) = heapq.heappop(pq)\n",
    "        out.append(cur)\n",
    "        if cur == end:\n",
    "            if verbose: print(f'Out order: {\" \".join(out)}') \n",
    "            return path\n",
    "        if cur not in reached:\n",
    "            reached.add(cur)\n",
    "            for node in G.adj(cur):\n",
    "                heapq.heappush(pq,(cost + G.cost(cur,node) + G.h(node),(node , path + [node])))\n",
    "    if verbose: print(f'\\nOut order: {\" \".join(out)}') \n",
    "    return None"
   ]
  },
  {
   "cell_type": "code",
   "execution_count": 18,
   "metadata": {},
   "outputs": [
    {
     "name": "stdout",
     "output_type": "stream",
     "text": [
      "Out order: A B E I C D J\n",
      "\n",
      "Final path found: A -> B -> I -> J\n"
     ]
    }
   ],
   "source": [
    "path = AStarSearch(G,'A','J',verbose = True)\n",
    "if path: print('\\nFinal path found: '+' -> '.join(path))"
   ]
  }
 ],
 "metadata": {
  "kernelspec": {
   "display_name": "base",
   "language": "python",
   "name": "python3"
  },
  "language_info": {
   "codemirror_mode": {
    "name": "ipython",
    "version": 3
   },
   "file_extension": ".py",
   "mimetype": "text/x-python",
   "name": "python",
   "nbconvert_exporter": "python",
   "pygments_lexer": "ipython3",
   "version": "3.11.7"
  }
 },
 "nbformat": 4,
 "nbformat_minor": 2
}
