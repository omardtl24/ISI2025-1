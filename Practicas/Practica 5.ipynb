{
 "cells": [
  {
   "cell_type": "markdown",
   "id": "3bf16247",
   "metadata": {},
   "source": [
    "# Práctica 5"
   ]
  },
  {
   "cell_type": "code",
   "execution_count": 44,
   "id": "a0b287d0",
   "metadata": {},
   "outputs": [],
   "source": [
    "import sys\n",
    "\n",
    "sys.path.append(\"..\")\n",
    "\n",
    "import numpy as np\n",
    "import pandas as pd\n",
    "from AI_algorithms.ml.supervised.bayesian import GaussianNB"
   ]
  },
  {
   "cell_type": "markdown",
   "id": "d43ff4f9",
   "metadata": {},
   "source": [
    "Considere el siguiente conjunto de datos. Los atributos $x_i$ son atributos binarios y el atributo $C$ es un atributo de clase que puede tomar tres posibles valores $\\{a, b, c\\}$.\n",
    "\n",
    "$$\n",
    "\\begin{array}{|c||c|c|c||c|}\n",
    "\\hline\n",
    " & x_1 & x_2 & x_3 &  C \\\\\n",
    "\\hline\n",
    "1 & 0 & 1 & 1 &  c \\\\\n",
    "2 & 1 & 0 & 1 &  a \\\\\n",
    "3 & 1 & 1 & 0 &  b \\\\\n",
    "4 & 0 & 0 & 0 &  a \\\\\n",
    "5 & 0 & 0 & 1 &  b \\\\\n",
    "6 & 1 & 0 & 1 &  a \\\\\n",
    "7 & 1 & 1 & 0 &  b \\\\\n",
    "8 & 0 & 0 & 0 &  c \\\\\n",
    "\\hline\n",
    "\\end{array}\n",
    "$$"
   ]
  },
  {
   "cell_type": "code",
   "execution_count": 45,
   "id": "3f3f2723",
   "metadata": {},
   "outputs": [
    {
     "name": "stdout",
     "output_type": "stream",
     "text": [
      "X shape:  (8, 3)\n",
      "y shape:  (8,)\n"
     ]
    }
   ],
   "source": [
    "X = [[0,1,1],\n",
    "     [1,0,1],\n",
    "     [1,1,0],\n",
    "     [0,0,0],\n",
    "     [0,0,1],\n",
    "     [1,0,1],\n",
    "     [1,1,0],\n",
    "     [0,0,0]]\n",
    "\n",
    "y = ['c','a','b','a','b','a','b','c']\n",
    "\n",
    "X = np.array(X)\n",
    "y = np.array(y)\n",
    "\n",
    "print(\"X shape: \", X.shape)\n",
    "print(\"y shape: \", y.shape)"
   ]
  },
  {
   "cell_type": "markdown",
   "id": "41359de9",
   "metadata": {},
   "source": [
    "## Ejercicio 1\n",
    "\n",
    "Calcule las probabilidades condicionales necesarias para un modelo naïve Bayes."
   ]
  },
  {
   "cell_type": "code",
   "execution_count": 46,
   "id": "ff08b582",
   "metadata": {},
   "outputs": [],
   "source": [
    "model = GaussianNB()\n",
    "model.fit(X, y, discrete=[0,1,2])\n",
    "\n",
    "priors = model.priors\n",
    "discrete_conditional_likelihood = model.discrete_probs\n",
    "probs = {}\n",
    "counts_ = {}\n",
    "for i,c in enumerate(model.classes):\n",
    "    class_probs = {}\n",
    "    counts = {}\n",
    "    class_probs[f'P( C = c_i )'] = priors[i]\n",
    "    counts['c = c_i'] = priors[i] * X.shape[0]\n",
    "    for j,feature in enumerate(model.features):\n",
    "        for value, prob in discrete_conditional_likelihood[(i,j)].items():\n",
    "            class_probs[f'P( x{j+1} = {value} | C = c_i )'] = prob\n",
    "            counts[f'x{j+1} = {value} and c = c_i'] = ((y == c) & (X[:,j]==value)).sum()\n",
    "    counts_[c] = counts\n",
    "    probs[c] = class_probs\n",
    "\n",
    "      \n",
    "counts = pd.DataFrame(counts_).astype(int)\n",
    "probs = pd.DataFrame(probs).round(3)"
   ]
  },
  {
   "cell_type": "code",
   "execution_count": 47,
   "id": "3ce3e07c",
   "metadata": {},
   "outputs": [
    {
     "name": "stdout",
     "output_type": "stream",
     "text": [
      "Probabilities needed to calculate P(C|X):\n"
     ]
    },
    {
     "data": {
      "text/html": [
       "<div>\n",
       "<style scoped>\n",
       "    .dataframe tbody tr th:only-of-type {\n",
       "        vertical-align: middle;\n",
       "    }\n",
       "\n",
       "    .dataframe tbody tr th {\n",
       "        vertical-align: top;\n",
       "    }\n",
       "\n",
       "    .dataframe thead th {\n",
       "        text-align: right;\n",
       "    }\n",
       "</style>\n",
       "<table border=\"1\" class=\"dataframe\">\n",
       "  <thead>\n",
       "    <tr style=\"text-align: right;\">\n",
       "      <th></th>\n",
       "      <th>a</th>\n",
       "      <th>b</th>\n",
       "      <th>c</th>\n",
       "    </tr>\n",
       "  </thead>\n",
       "  <tbody>\n",
       "    <tr>\n",
       "      <th>P( C = c_i )</th>\n",
       "      <td>0.375</td>\n",
       "      <td>0.375</td>\n",
       "      <td>0.25</td>\n",
       "    </tr>\n",
       "    <tr>\n",
       "      <th>P( x1 = 0 | C = c_i )</th>\n",
       "      <td>0.333</td>\n",
       "      <td>0.333</td>\n",
       "      <td>1.00</td>\n",
       "    </tr>\n",
       "    <tr>\n",
       "      <th>P( x1 = 1 | C = c_i )</th>\n",
       "      <td>0.667</td>\n",
       "      <td>0.667</td>\n",
       "      <td>0.00</td>\n",
       "    </tr>\n",
       "    <tr>\n",
       "      <th>P( x2 = 1 | C = c_i )</th>\n",
       "      <td>0.000</td>\n",
       "      <td>0.667</td>\n",
       "      <td>0.50</td>\n",
       "    </tr>\n",
       "    <tr>\n",
       "      <th>P( x2 = 0 | C = c_i )</th>\n",
       "      <td>1.000</td>\n",
       "      <td>0.333</td>\n",
       "      <td>0.50</td>\n",
       "    </tr>\n",
       "    <tr>\n",
       "      <th>P( x3 = 1 | C = c_i )</th>\n",
       "      <td>0.667</td>\n",
       "      <td>0.333</td>\n",
       "      <td>0.50</td>\n",
       "    </tr>\n",
       "    <tr>\n",
       "      <th>P( x3 = 0 | C = c_i )</th>\n",
       "      <td>0.333</td>\n",
       "      <td>0.667</td>\n",
       "      <td>0.50</td>\n",
       "    </tr>\n",
       "  </tbody>\n",
       "</table>\n",
       "</div>"
      ],
      "text/plain": [
       "                           a      b     c\n",
       "P( C = c_i )           0.375  0.375  0.25\n",
       "P( x1 = 0 | C = c_i )  0.333  0.333  1.00\n",
       "P( x1 = 1 | C = c_i )  0.667  0.667  0.00\n",
       "P( x2 = 1 | C = c_i )  0.000  0.667  0.50\n",
       "P( x2 = 0 | C = c_i )  1.000  0.333  0.50\n",
       "P( x3 = 1 | C = c_i )  0.667  0.333  0.50\n",
       "P( x3 = 0 | C = c_i )  0.333  0.667  0.50"
      ]
     },
     "execution_count": 47,
     "metadata": {},
     "output_type": "execute_result"
    }
   ],
   "source": [
    "print(f'Probabilities needed to calculate P(C|X):')\n",
    "probs"
   ]
  },
  {
   "cell_type": "code",
   "execution_count": 48,
   "id": "ab682f60",
   "metadata": {},
   "outputs": [
    {
     "name": "stdout",
     "output_type": "stream",
     "text": [
      "Count values for each combination - dependency\n"
     ]
    },
    {
     "data": {
      "text/html": [
       "<div>\n",
       "<style scoped>\n",
       "    .dataframe tbody tr th:only-of-type {\n",
       "        vertical-align: middle;\n",
       "    }\n",
       "\n",
       "    .dataframe tbody tr th {\n",
       "        vertical-align: top;\n",
       "    }\n",
       "\n",
       "    .dataframe thead th {\n",
       "        text-align: right;\n",
       "    }\n",
       "</style>\n",
       "<table border=\"1\" class=\"dataframe\">\n",
       "  <thead>\n",
       "    <tr style=\"text-align: right;\">\n",
       "      <th></th>\n",
       "      <th>a</th>\n",
       "      <th>b</th>\n",
       "      <th>c</th>\n",
       "    </tr>\n",
       "  </thead>\n",
       "  <tbody>\n",
       "    <tr>\n",
       "      <th>c = c_i</th>\n",
       "      <td>3</td>\n",
       "      <td>3</td>\n",
       "      <td>2</td>\n",
       "    </tr>\n",
       "    <tr>\n",
       "      <th>x1 = 0 and c = c_i</th>\n",
       "      <td>1</td>\n",
       "      <td>1</td>\n",
       "      <td>2</td>\n",
       "    </tr>\n",
       "    <tr>\n",
       "      <th>x1 = 1 and c = c_i</th>\n",
       "      <td>2</td>\n",
       "      <td>2</td>\n",
       "      <td>0</td>\n",
       "    </tr>\n",
       "    <tr>\n",
       "      <th>x2 = 1 and c = c_i</th>\n",
       "      <td>0</td>\n",
       "      <td>2</td>\n",
       "      <td>1</td>\n",
       "    </tr>\n",
       "    <tr>\n",
       "      <th>x2 = 0 and c = c_i</th>\n",
       "      <td>3</td>\n",
       "      <td>1</td>\n",
       "      <td>1</td>\n",
       "    </tr>\n",
       "    <tr>\n",
       "      <th>x3 = 1 and c = c_i</th>\n",
       "      <td>2</td>\n",
       "      <td>1</td>\n",
       "      <td>1</td>\n",
       "    </tr>\n",
       "    <tr>\n",
       "      <th>x3 = 0 and c = c_i</th>\n",
       "      <td>1</td>\n",
       "      <td>2</td>\n",
       "      <td>1</td>\n",
       "    </tr>\n",
       "  </tbody>\n",
       "</table>\n",
       "</div>"
      ],
      "text/plain": [
       "                    a  b  c\n",
       "c = c_i             3  3  2\n",
       "x1 = 0 and c = c_i  1  1  2\n",
       "x1 = 1 and c = c_i  2  2  0\n",
       "x2 = 1 and c = c_i  0  2  1\n",
       "x2 = 0 and c = c_i  3  1  1\n",
       "x3 = 1 and c = c_i  2  1  1\n",
       "x3 = 0 and c = c_i  1  2  1"
      ]
     },
     "execution_count": 48,
     "metadata": {},
     "output_type": "execute_result"
    }
   ],
   "source": [
    "print(f'Count values for each combination - dependency')\n",
    "counts"
   ]
  },
  {
   "cell_type": "markdown",
   "id": "1d40207d",
   "metadata": {},
   "source": [
    "## Ejercicio 2\n",
    "\n",
    "Clasifique el ejemplo $x = (0, 0, 1)$"
   ]
  },
  {
   "cell_type": "code",
   "execution_count": 49,
   "id": "d454f13b",
   "metadata": {},
   "outputs": [
    {
     "name": "stdout",
     "output_type": "stream",
     "text": [
      "Probabilities of each class given the sample:\n",
      "\n",
      "P( C = a | X = (0, 0, 1) ) = 0.522\n",
      "P( C = b | X = (0, 0, 1) ) = 0.087\n",
      "P( C = c | X = (0, 0, 1) ) = 0.391\n",
      "\n",
      "Predicted class for the sample: a\n"
     ]
    }
   ],
   "source": [
    "sample = np.array([0,0,1])\n",
    "probs = model.predict_proba(sample).flatten()\n",
    "class_ = model.predict(sample)\n",
    "print(f'Probabilities of each class given the sample:\\n')\n",
    "s = 0\n",
    "for i,c in enumerate(model.classes):\n",
    "    s += probs[i]\n",
    "    print(f'P( C = {c} | X = ({\", \".join(sample.astype(str))}) ) = {probs[i]:.3f}')\n",
    "\n",
    "assert np.isclose(s, 1.0), f'Probabilities do not sum to 1: {s}'\n",
    "print(f'\\nPredicted class for the sample: {class_[0]}')"
   ]
  },
  {
   "cell_type": "markdown",
   "id": "a9781a45",
   "metadata": {},
   "source": [
    "## Ejercicio 3\n",
    "\n"
   ]
  },
  {
   "cell_type": "markdown",
   "id": "2369d304",
   "metadata": {},
   "source": [
    "Calcule la siguiente probabilidad de manera exacta: $P(C = a|x = (1, 1, 0))$"
   ]
  },
  {
   "cell_type": "code",
   "execution_count": 50,
   "id": "d8372777",
   "metadata": {},
   "outputs": [
    {
     "name": "stdout",
     "output_type": "stream",
     "text": [
      "P( C = a | X = (1, 1, 0) ) = 0.0\n"
     ]
    }
   ],
   "source": [
    "sample = np.array([1,1,0])\n",
    "probs = model.predict_proba(sample).flatten()\n",
    "target_class = 'a'\n",
    "\n",
    "index = np.where(model.classes == target_class)[0][0]\n",
    "value = probs[index]\n",
    "print(f'P( C = {target_class} | X = ({\", \".join(sample.astype(str))}) ) = {value}')"
   ]
  },
  {
   "cell_type": "code",
   "execution_count": 51,
   "id": "bbbdc4a0",
   "metadata": {},
   "outputs": [
    {
     "name": "stdout",
     "output_type": "stream",
     "text": [
      "Scenario with Laplace correction:\n",
      "\n",
      "P( C = a | X = (1, 1, 0) ) = 0.15703\n"
     ]
    }
   ],
   "source": [
    "model = GaussianNB()\n",
    "model.fit(X, y, discrete=[0,1,2], correction = 'laplace')\n",
    "sample = np.array([1,1,0])\n",
    "probs = model.predict_proba(sample).flatten()\n",
    "target_class = 'a'\n",
    "\n",
    "index = np.where(model.classes == target_class)[0][0]\n",
    "value = probs[index]\n",
    "print('Scenario with Laplace correction:\\n')\n",
    "print(f'P( C = {target_class} | X = ({\", \".join(sample.astype(str))}) ) = {value:.5f}')"
   ]
  },
  {
   "cell_type": "code",
   "execution_count": 52,
   "id": "f07fd502",
   "metadata": {},
   "outputs": [
    {
     "name": "stdout",
     "output_type": "stream",
     "text": [
      "Scenario with m-estimate m=1:\n",
      "\n",
      "P( C = a | X = (1, 1, 0) ) = 0.08036\n"
     ]
    }
   ],
   "source": [
    "model = GaussianNB()\n",
    "m = 1\n",
    "model.fit(X, y, discrete=[0,1,2], correction = 'm-estimate', m=m)\n",
    "sample = np.array([1,1,0])\n",
    "probs = model.predict_proba(sample).flatten()\n",
    "target_class = 'a'\n",
    "\n",
    "index = np.where(model.classes == target_class)[0][0]\n",
    "value = probs[index]\n",
    "print(f'Scenario with m-estimate m={m}:\\n')\n",
    "print(f'P( C = {target_class} | X = ({\", \".join(sample.astype(str))}) ) = {value:.5f}')"
   ]
  },
  {
   "cell_type": "markdown",
   "id": "349c2747",
   "metadata": {},
   "source": [
    "## Región de decisión del modelo Bayesiano"
   ]
  },
  {
   "cell_type": "code",
   "execution_count": 53,
   "id": "eb6d2358",
   "metadata": {},
   "outputs": [],
   "source": [
    "import sys\n",
    "\n",
    "sys.path.append('..')\n",
    "\n",
    "from AI_algorithms.utils.plot import plot_data , plot_decision_region\n",
    "from sklearn.metrics import classification_report\n",
    "from sklearn.datasets import make_blobs\n",
    "from sklearn.model_selection import train_test_split\n",
    "from sklearn.preprocessing import minmax_scale\n",
    "import numpy as np"
   ]
  },
  {
   "cell_type": "code",
   "execution_count": 54,
   "id": "07174175",
   "metadata": {},
   "outputs": [
    {
     "data": {
      "image/png": "[encoded data removed]",
      "text/plain": [
       "<Figure size 640x480 with 1 Axes>"
      ]
     },
     "metadata": {},
     "output_type": "display_data"
    }
   ],
   "source": [
    "X, y = make_blobs(n_samples=300, n_features=2, centers=4, random_state=109)\n",
    "X = minmax_scale(X)\n",
    "y = y % 2\n",
    "plot_data(X, y)\n",
    "X_train, X_test, y_train, y_test = train_test_split(X, y, test_size=0.2,random_state=42)"
   ]
  },
  {
   "cell_type": "code",
   "execution_count": 55,
   "id": "b40abff9",
   "metadata": {},
   "outputs": [
    {
     "name": "stdout",
     "output_type": "stream",
     "text": [
      "              precision    recall  f1-score   support\n",
      "\n",
      "           0       1.00      1.00      1.00        29\n",
      "           1       1.00      1.00      1.00        31\n",
      "\n",
      "    accuracy                           1.00        60\n",
      "   macro avg       1.00      1.00      1.00        60\n",
      "weighted avg       1.00      1.00      1.00        60\n",
      "\n"
     ]
    }
   ],
   "source": [
    "model = GaussianNB()\n",
    "model.fit(X_train, y_train)\n",
    "\n",
    "y_pred = model.predict(X_test)\n",
    "\n",
    "print(classification_report(y_test, y_pred))"
   ]
  },
  {
   "cell_type": "code",
   "execution_count": 56,
   "id": "43edf9b5",
   "metadata": {},
   "outputs": [
    {
     "data": {
      "image/png": "[encoded data removed]",
      "text/plain": [
       "<Figure size 640x480 with 2 Axes>"
      ]
     },
     "metadata": {},
     "output_type": "display_data"
    }
   ],
   "source": [
    "plot_decision_region(X_test, lambda x1,x2: model.predict(np.array([x1,x2]).reshape(1,-1)), vmin=-.5, vmax=1.5)\n",
    "plot_data(X_test, y_test)"
   ]
  }
 ],
 "metadata": {
  "kernelspec": {
   "display_name": "ISI-venv",
   "language": "python",
   "name": "python3"
  },
  "language_info": {
   "codemirror_mode": {
    "name": "ipython",
    "version": 3
   },
   "file_extension": ".py",
   "mimetype": "text/x-python",
   "name": "python",
   "nbconvert_exporter": "python",
   "pygments_lexer": "ipython3",
   "version": "3.11.4"
  }
 },
 "nbformat": 4,
 "nbformat_minor": 5
}
