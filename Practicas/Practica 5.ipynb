{
 "cells": [
  {
   "cell_type": "markdown",
   "id": "3bf16247",
   "metadata": {},
   "source": [
    "# Práctica 5"
   ]
  },
  {
   "cell_type": "code",
   "execution_count": 1,
   "id": "a0b287d0",
   "metadata": {},
   "outputs": [],
   "source": [
    "import sys\n",
    "\n",
    "sys.path.append(\"..\")\n",
    "\n",
    "import numpy as np\n",
    "import pandas as pd\n",
    "from AI_algorithms.ml.supervised.bayesian import GaussianNB"
   ]
  },
  {
   "cell_type": "markdown",
   "id": "d43ff4f9",
   "metadata": {},
   "source": [
    "Considere el siguiente conjunto de datos. Los atributos $x_i$ son atributos binarios y el atributo $C$ es un atributo de clase que puede tomar tres posibles valores $\\{a, b, c\\}$.\n",
    "\n",
    "$$\n",
    "\\begin{array}{|c||c|c|c||c|}\n",
    "\\hline\n",
    " & x_1 & x_2 & x_3 &  C \\\\\n",
    "\\hline\n",
    "1 & 0 & 1 & 1 &  c \\\\\n",
    "2 & 1 & 0 & 1 &  a \\\\\n",
    "3 & 1 & 1 & 0 &  b \\\\\n",
    "4 & 0 & 0 & 0 &  a \\\\\n",
    "5 & 0 & 0 & 1 &  b \\\\\n",
    "6 & 1 & 0 & 1 &  a \\\\\n",
    "7 & 1 & 1 & 0 &  b \\\\\n",
    "8 & 0 & 0 & 0 &  c \\\\\n",
    "\\hline\n",
    "\\end{array}\n",
    "$$"
   ]
  },
  {
   "cell_type": "code",
   "execution_count": 2,
   "id": "3f3f2723",
   "metadata": {},
   "outputs": [
    {
     "name": "stdout",
     "output_type": "stream",
     "text": [
      "X shape:  (8, 3)\n",
      "y shape:  (8,)\n"
     ]
    }
   ],
   "source": [
    "X = [[0,1,1],\n",
    "     [1,0,1],\n",
    "     [1,1,0],\n",
    "     [0,0,0],\n",
    "     [0,0,1],\n",
    "     [1,0,1],\n",
    "     [1,1,0],\n",
    "     [0,0,0]]\n",
    "\n",
    "y = ['c','a','b','a','b','a','b','c']\n",
    "\n",
    "X = np.array(X)\n",
    "y = np.array(y)\n",
    "\n",
    "print(\"X shape: \", X.shape)\n",
    "print(\"y shape: \", y.shape)"
   ]
  },
  {
   "cell_type": "markdown",
   "id": "41359de9",
   "metadata": {},
   "source": [
    "## Ejercicio 1\n",
    "\n",
    "Calcule las probabilidades condicionales necesarias para un modelo naïve Bayes."
   ]
  },
  {
   "cell_type": "code",
   "execution_count": 3,
   "id": "ff08b582",
   "metadata": {},
   "outputs": [
    {
     "name": "stdout",
     "output_type": "stream",
     "text": [
      "Probabilities needed to calculate P(C|X):\n"
     ]
    },
    {
     "data": {
      "text/html": [
       "<div>\n",
       "<style scoped>\n",
       "    .dataframe tbody tr th:only-of-type {\n",
       "        vertical-align: middle;\n",
       "    }\n",
       "\n",
       "    .dataframe tbody tr th {\n",
       "        vertical-align: top;\n",
       "    }\n",
       "\n",
       "    .dataframe thead th {\n",
       "        text-align: right;\n",
       "    }\n",
       "</style>\n",
       "<table border=\"1\" class=\"dataframe\">\n",
       "  <thead>\n",
       "    <tr style=\"text-align: right;\">\n",
       "      <th></th>\n",
       "      <th>a</th>\n",
       "      <th>b</th>\n",
       "      <th>c</th>\n",
       "    </tr>\n",
       "  </thead>\n",
       "  <tbody>\n",
       "    <tr>\n",
       "      <th>P( C = c_i )</th>\n",
       "      <td>0.375</td>\n",
       "      <td>0.375</td>\n",
       "      <td>0.25</td>\n",
       "    </tr>\n",
       "    <tr>\n",
       "      <th>P( x1 = 0 | C = c_i )</th>\n",
       "      <td>0.333</td>\n",
       "      <td>0.333</td>\n",
       "      <td>1.00</td>\n",
       "    </tr>\n",
       "    <tr>\n",
       "      <th>P( x1 = 1 | C = c_i )</th>\n",
       "      <td>0.667</td>\n",
       "      <td>0.667</td>\n",
       "      <td>0.00</td>\n",
       "    </tr>\n",
       "    <tr>\n",
       "      <th>P( x2 = 1 | C = c_i )</th>\n",
       "      <td>0.000</td>\n",
       "      <td>0.667</td>\n",
       "      <td>0.50</td>\n",
       "    </tr>\n",
       "    <tr>\n",
       "      <th>P( x2 = 0 | C = c_i )</th>\n",
       "      <td>1.000</td>\n",
       "      <td>0.333</td>\n",
       "      <td>0.50</td>\n",
       "    </tr>\n",
       "    <tr>\n",
       "      <th>P( x3 = 1 | C = c_i )</th>\n",
       "      <td>0.667</td>\n",
       "      <td>0.333</td>\n",
       "      <td>0.50</td>\n",
       "    </tr>\n",
       "    <tr>\n",
       "      <th>P( x3 = 0 | C = c_i )</th>\n",
       "      <td>0.333</td>\n",
       "      <td>0.667</td>\n",
       "      <td>0.50</td>\n",
       "    </tr>\n",
       "  </tbody>\n",
       "</table>\n",
       "</div>"
      ],
      "text/plain": [
       "                           a      b     c\n",
       "P( C = c_i )           0.375  0.375  0.25\n",
       "P( x1 = 0 | C = c_i )  0.333  0.333  1.00\n",
       "P( x1 = 1 | C = c_i )  0.667  0.667  0.00\n",
       "P( x2 = 1 | C = c_i )  0.000  0.667  0.50\n",
       "P( x2 = 0 | C = c_i )  1.000  0.333  0.50\n",
       "P( x3 = 1 | C = c_i )  0.667  0.333  0.50\n",
       "P( x3 = 0 | C = c_i )  0.333  0.667  0.50"
      ]
     },
     "execution_count": 3,
     "metadata": {},
     "output_type": "execute_result"
    }
   ],
   "source": [
    "model = GaussianNB()\n",
    "model.fit(X, y, discrete=[0,1,2])\n",
    "\n",
    "priors = model.priors\n",
    "discrete_conditional_likelihood = model.discrete_probs\n",
    "probs = {}\n",
    "for i,c in enumerate(model.classes):\n",
    "    class_probs = {}\n",
    "    class_probs[f'P( C = c_i )'] = priors[i]\n",
    "    for j,feature in enumerate(model.features):\n",
    "        for value, prob in discrete_conditional_likelihood[(i,j)].items():\n",
    "            class_probs[f'P( x{j+1} = {value} | C = c_i )'] = prob\n",
    "    probs[c] = class_probs\n",
    "        \n",
    "    \n",
    "probs = pd.DataFrame(probs).round(3)\n",
    "print(f'Probabilities needed to calculate P(C|X):')\n",
    "probs"
   ]
  },
  {
   "cell_type": "markdown",
   "id": "1d40207d",
   "metadata": {},
   "source": [
    "## Ejercicio 2\n",
    "\n",
    "Clasifique el ejemplo $x = (0, 0, 1)$"
   ]
  },
  {
   "cell_type": "code",
   "execution_count": 4,
   "id": "d454f13b",
   "metadata": {},
   "outputs": [
    {
     "name": "stdout",
     "output_type": "stream",
     "text": [
      "Probabilities of each class given the sample:\n",
      "\n",
      "P( C = a | X = (0, 1, 1) ) = 0.000\n",
      "P( C = b | X = (0, 1, 1) ) = 0.308\n",
      "P( C = c | X = (0, 1, 1) ) = 0.692\n",
      "\n",
      "Predicted class for the sample: c\n"
     ]
    }
   ],
   "source": [
    "sample = np.array([0,1,1])\n",
    "probs = model.predict_proba(sample).flatten()\n",
    "class_ = model.predict(sample)\n",
    "print(f'Probabilities of each class given the sample:\\n')\n",
    "for i,c in enumerate(model.classes):\n",
    "    print(f'P( C = {c} | X = ({\", \".join(sample.astype(str))}) ) = {probs[i]:.3f}')\n",
    "\n",
    "print(f'\\nPredicted class for the sample: {class_[0]}')"
   ]
  },
  {
   "cell_type": "markdown",
   "id": "a9781a45",
   "metadata": {},
   "source": [
    "## Ejercicio 3\n",
    "\n"
   ]
  },
  {
   "cell_type": "markdown",
   "id": "2369d304",
   "metadata": {},
   "source": [
    "Calcule la siguiente probabilidad de manera exacta: $P(C = a|x = (1, 1, 0))$"
   ]
  },
  {
   "cell_type": "code",
   "execution_count": 5,
   "id": "d8372777",
   "metadata": {},
   "outputs": [
    {
     "name": "stdout",
     "output_type": "stream",
     "text": [
      "P( C = a | X = (1, 1, 0) ) = 0.0\n"
     ]
    }
   ],
   "source": [
    "sample = np.array([1,1,0])\n",
    "probs = model.predict_proba(sample).flatten()\n",
    "target_class = 'a'\n",
    "\n",
    "index = np.where(model.classes == target_class)[0][0]\n",
    "value = probs[index]\n",
    "print(f'P( C = {target_class} | X = ({\", \".join(sample.astype(str))}) ) = {value}')"
   ]
  }
 ],
 "metadata": {
  "kernelspec": {
   "display_name": "ISI-venv",
   "language": "python",
   "name": "python3"
  },
  "language_info": {
   "codemirror_mode": {
    "name": "ipython",
    "version": 3
   },
   "file_extension": ".py",
   "mimetype": "text/x-python",
   "name": "python",
   "nbconvert_exporter": "python",
   "pygments_lexer": "ipython3",
   "version": "3.11.2"
  }
 },
 "nbformat": 4,
 "nbformat_minor": 5
}
