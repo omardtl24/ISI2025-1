{
 "cells": [
  {
   "cell_type": "markdown",
   "metadata": {},
   "source": [
    "# Practica 2 - Exploración de grafos de estado"
   ]
  },
  {
   "cell_type": "markdown",
   "metadata": {},
   "source": [
    "## Ejercicio 1"
   ]
  },
  {
   "cell_type": "markdown",
   "metadata": {},
   "source": [
    "Usted tiene 2 jarras, una con capacidad de 3 litros y otra con capacidad de 5 litros. Además, se cuenta con un grifo. Las jarras se pueden llenar totalmente, vaciar en el piso y vaciar parcialmente el contenido de una jarra en la otra. Las jarras no tienen ninguna clase de marca. El objetivo es medir exactamente un litro de agua"
   ]
  },
  {
   "cell_type": "markdown",
   "metadata": {},
   "source": [
    "### 1. ¿Cuáles son los estados del problema?"
   ]
  },
  {
   "cell_type": "markdown",
   "metadata": {},
   "source": [
    "Los estados del problema se pueden definir de acuerdo a la cantidad de agua en cada jarra. En este escenario, definiremos que cada estado es una variación de un litro en cada una de las jarras. Definiendo la jarra de capacidad 3 como $J_3$ y la jarra de capacidad 5 como $J_5$, tenemos el siguiente espacio de opciones:\n",
    "\n",
    "$$J_5 = \\{0,1,2,3,4,5\\}$$\n",
    "$$J_3 = \\{0,1,2,3\\}$$"
   ]
  },
  {
   "cell_type": "markdown",
   "metadata": {},
   "source": []
  }
 ],
 "metadata": {
  "language_info": {
   "name": "python"
  }
 },
 "nbformat": 4,
 "nbformat_minor": 2
}
