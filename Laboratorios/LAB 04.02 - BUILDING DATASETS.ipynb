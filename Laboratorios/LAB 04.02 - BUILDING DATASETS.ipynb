{
 "cells": [
  {
   "cell_type": "markdown",
   "metadata": {},
   "source": [
    "# LAB 04.02 - Buiding Datasets"
   ]
  },
  {
   "cell_type": "code",
   "execution_count": 1,
   "metadata": {},
   "outputs": [
    {
     "data": {
      "text/html": [
       "\n",
       "<meta name=\"google-signin-client_id\"\n",
       "      content=\"461673936472-kdjosv61up3ac1ajeuq6qqu72upilmls.apps.googleusercontent.com\"/>\n",
       "<script src=\"https://apis.google.com/js/client:platform.js?onload=google_button_start\"></script>\n",
       "    "
      ],
      "text/plain": [
       "<IPython.core.display.HTML object>"
      ]
     },
     "metadata": {},
     "output_type": "display_data"
    },
    {
     "name": "stdout",
     "output_type": "stream",
     "text": [
      "Requirement already satisfied: rlxutils in /home/omardtl24/ISI2025-1/ISI-venv/lib/python3.11/site-packages (0.1.10)\n",
      "Requirement already satisfied: joblib in /home/omardtl24/ISI2025-1/ISI-venv/lib/python3.11/site-packages (from rlxutils) (1.4.2)\n",
      "Requirement already satisfied: matplotlib in /home/omardtl24/ISI2025-1/ISI-venv/lib/python3.11/site-packages (from rlxutils) (3.10.1)\n",
      "Requirement already satisfied: numpy in /home/omardtl24/ISI2025-1/ISI-venv/lib/python3.11/site-packages (from rlxutils) (1.26.4)\n",
      "Requirement already satisfied: pandas in /home/omardtl24/ISI2025-1/ISI-venv/lib/python3.11/site-packages (from rlxutils) (2.2.3)\n",
      "Requirement already satisfied: progressbar2 in /home/omardtl24/ISI2025-1/ISI-venv/lib/python3.11/site-packages (from rlxutils) (4.5.0)\n",
      "Requirement already satisfied: psutil in /home/omardtl24/ISI2025-1/ISI-venv/lib/python3.11/site-packages (from rlxutils) (7.0.0)\n",
      "Requirement already satisfied: scipy in /home/omardtl24/ISI2025-1/ISI-venv/lib/python3.11/site-packages (from rlxutils) (1.15.2)\n",
      "Requirement already satisfied: contourpy>=1.0.1 in /home/omardtl24/ISI2025-1/ISI-venv/lib/python3.11/site-packages (from matplotlib->rlxutils) (1.3.2)\n",
      "Requirement already satisfied: cycler>=0.10 in /home/omardtl24/ISI2025-1/ISI-venv/lib/python3.11/site-packages (from matplotlib->rlxutils) (0.12.1)\n",
      "Requirement already satisfied: fonttools>=4.22.0 in /home/omardtl24/ISI2025-1/ISI-venv/lib/python3.11/site-packages (from matplotlib->rlxutils) (4.57.0)\n",
      "Requirement already satisfied: kiwisolver>=1.3.1 in /home/omardtl24/ISI2025-1/ISI-venv/lib/python3.11/site-packages (from matplotlib->rlxutils) (1.4.8)\n",
      "Requirement already satisfied: packaging>=20.0 in /home/omardtl24/ISI2025-1/ISI-venv/lib/python3.11/site-packages (from matplotlib->rlxutils) (25.0)\n",
      "Requirement already satisfied: pillow>=8 in /home/omardtl24/ISI2025-1/ISI-venv/lib/python3.11/site-packages (from matplotlib->rlxutils) (11.2.1)\n",
      "Requirement already satisfied: pyparsing>=2.3.1 in /home/omardtl24/ISI2025-1/ISI-venv/lib/python3.11/site-packages (from matplotlib->rlxutils) (3.2.3)\n",
      "Requirement already satisfied: python-dateutil>=2.7 in /home/omardtl24/ISI2025-1/ISI-venv/lib/python3.11/site-packages (from matplotlib->rlxutils) (2.9.0.post0)\n",
      "Requirement already satisfied: pytz>=2020.1 in /home/omardtl24/ISI2025-1/ISI-venv/lib/python3.11/site-packages (from pandas->rlxutils) (2025.2)\n",
      "Requirement already satisfied: tzdata>=2022.7 in /home/omardtl24/ISI2025-1/ISI-venv/lib/python3.11/site-packages (from pandas->rlxutils) (2025.2)\n",
      "Requirement already satisfied: python-utils>=3.8.1 in /home/omardtl24/ISI2025-1/ISI-venv/lib/python3.11/site-packages (from progressbar2->rlxutils) (3.9.1)\n",
      "Requirement already satisfied: six>=1.5 in /home/omardtl24/ISI2025-1/ISI-venv/lib/python3.11/site-packages (from python-dateutil>=2.7->matplotlib->rlxutils) (1.17.0)\n",
      "Requirement already satisfied: typing_extensions>3.10.0.2 in /home/omardtl24/ISI2025-1/ISI-venv/lib/python3.11/site-packages (from python-utils>=3.8.1->progressbar2->rlxutils) (4.13.2)\n"
     ]
    },
    {
     "data": {
      "text/plain": [
       "'https://m5knaekxo6.execute-api.us-west-2.amazonaws.com/dev-v0001/rlxmooc'"
      ]
     },
     "execution_count": 1,
     "metadata": {},
     "output_type": "execute_result"
    }
   ],
   "source": [
    "!wget --no-cache -O init.py -q https://raw.githubusercontent.com/fagonzalezo/ai4eng-unal/main/content/init.py\n",
    "import init; init.init(force_download=False); init.get_weblink()\n",
    "init.endpoint"
   ]
  },
  {
   "cell_type": "code",
   "execution_count": null,
   "metadata": {},
   "outputs": [],
   "source": [
    "from local.lib.rlxmoocapi import submit, session\n",
    "session.LoginSequence(endpoint=init.endpoint, course_id=init.course_id, lab_id=\"L04.02\", varname=\"student\");"
   ]
  },
  {
   "cell_type": "markdown",
   "metadata": {},
   "source": [
    "## Understand the ASHRAE Energy Prediction in Kaggle\n",
    "\n",
    "Follow this link: [https://www.kaggle.com/c/ashrae-energy-prediction](https://www.kaggle.com/c/ashrae-energy-prediction), register for the task and download the data.\n",
    "\n",
    "In particular, understand:\n",
    "\n",
    "- The machine learning task they define (what they want to predict)\n",
    "- How the data is provided\n",
    "- The structure and relation between the files `train.csv`, `weather_train.csv` and `building_metadata.csv`"
   ]
  },
  {
   "cell_type": "code",
   "execution_count": 3,
   "metadata": {},
   "outputs": [
    {
     "name": "stdout",
     "output_type": "stream",
     "text": [
      "Env loaded\n"
     ]
    }
   ],
   "source": [
    "from dotenv import load_dotenv\n",
    "from pathlib import Path\n",
    "import os\n",
    "\n",
    "env_path = Path('../.env')\n",
    "if load_dotenv(): print('Env loaded')\n",
    "else: print('Env not loaded')"
   ]
  },
  {
   "cell_type": "code",
   "execution_count": 4,
   "metadata": {},
   "outputs": [
    {
     "name": "stdout",
     "output_type": "stream",
     "text": [
      "Downloading ashrae-energy-prediction.zip to /home/omardtl24/ISI2025-1/Laboratorios\n",
      " 90%|█████████████████████████████████████    | 342M/379M [00:00<00:00, 707MB/s]\n",
      "100%|█████████████████████████████████████████| 379M/379M [00:00<00:00, 705MB/s]\n"
     ]
    }
   ],
   "source": [
    "!kaggle competitions download -c ashrae-energy-prediction"
   ]
  },
  {
   "cell_type": "code",
   "execution_count": 5,
   "metadata": {},
   "outputs": [],
   "source": [
    "!unzip -q ashrae-energy-prediction.zip"
   ]
  },
  {
   "cell_type": "markdown",
   "metadata": {},
   "source": [
    "## Task 1: Build a training dataset\n",
    "\n",
    "Execute the cell below and you will be given a **building_id** and a **date**. You will have to:\n",
    "\n",
    "1. Build a table containing one row per hour and the following columns **only for that building_id and date**: \n",
    "       'meter_reading', 'site_id', 'air_temperature', 'cloud_coverage',\n",
    "       'dew_temperature', 'precip_depth_1_hr', 'sea_level_pressure',\n",
    "       'wind_direction', 'wind_speed', 'square_feet', 'year_built'\n",
    "   Note that you will have to gather this information from the different csv sources.\n",
    "   \n",
    "1. use only measures with `meter`=0\n",
    "1. Fill any missing values with zero.\n",
    "1. Extract the column of the target variable and sum all values.\n",
    "1. Sum all the values of the rest of the columns.\n",
    "1. Fill in those values in the variables below.\n",
    "1. Submit your answer.\n",
    "\n",
    "Observe that, with this dataset, we could train a model to make predictions of the target variable, taking the rest of the variables as input.\n",
    "\n",
    "For instance, for building number 900, on 2016-02-01:\n",
    "- there are 24 records\n",
    "- the sum of all values of the target variable is 4941 (cropping decimals)\n",
    "- the sum of all values of the rest of the variables is 2705422 (cropping decimals)"
   ]
  },
  {
   "cell_type": "code",
   "execution_count": 6,
   "metadata": {},
   "outputs": [
    {
     "name": "stdout",
     "output_type": "stream",
     "text": [
      "your building_id 971\n",
      "your date        2016-02-05\n"
     ]
    }
   ],
   "source": [
    "from IPython.display import Image\n",
    "from local.lib import labutils\n",
    "import numpy as np\n",
    "bid, date = labutils.biddate_for_student(student.user_id)\n",
    "print (\"your building_id\", bid)\n",
    "print (\"your date       \", date)"
   ]
  },
  {
   "cell_type": "code",
   "execution_count": 7,
   "metadata": {},
   "outputs": [],
   "source": [
    "import pandas as pd\n",
    "\n",
    "train = pd.read_csv('train.csv')\n",
    "weather = pd.read_csv('weather_train.csv')\n",
    "building = pd.read_csv('building_metadata.csv')\n",
    "\n",
    "train = train[train['building_id'] == bid]\n",
    "train = train[train['timestamp'].str.contains(date)]\n",
    "weather = weather[weather['timestamp'].str.contains(date)]\n",
    "building = building[building['building_id'] == bid]"
   ]
  },
  {
   "cell_type": "code",
   "execution_count": 8,
   "metadata": {},
   "outputs": [
    {
     "name": "stdout",
     "output_type": "stream",
     "text": [
      "<class 'pandas.core.frame.DataFrame'>\n",
      "Index: 72 entries, 1931253 to 1984227\n",
      "Data columns (total 4 columns):\n",
      " #   Column         Non-Null Count  Dtype  \n",
      "---  ------         --------------  -----  \n",
      " 0   building_id    72 non-null     int64  \n",
      " 1   meter          72 non-null     int64  \n",
      " 2   timestamp      72 non-null     object \n",
      " 3   meter_reading  72 non-null     float64\n",
      "dtypes: float64(1), int64(2), object(1)\n",
      "memory usage: 2.8+ KB\n"
     ]
    }
   ],
   "source": [
    "train.info()"
   ]
  },
  {
   "cell_type": "code",
   "execution_count": 9,
   "metadata": {},
   "outputs": [
    {
     "name": "stdout",
     "output_type": "stream",
     "text": [
      "<class 'pandas.core.frame.DataFrame'>\n",
      "Index: 384 entries, 840 to 132099\n",
      "Data columns (total 9 columns):\n",
      " #   Column              Non-Null Count  Dtype  \n",
      "---  ------              --------------  -----  \n",
      " 0   site_id             384 non-null    int64  \n",
      " 1   timestamp           384 non-null    object \n",
      " 2   air_temperature     384 non-null    float64\n",
      " 3   cloud_coverage      160 non-null    float64\n",
      " 4   dew_temperature     384 non-null    float64\n",
      " 5   precip_depth_1_hr   248 non-null    float64\n",
      " 6   sea_level_pressure  351 non-null    float64\n",
      " 7   wind_direction      377 non-null    float64\n",
      " 8   wind_speed          384 non-null    float64\n",
      "dtypes: float64(7), int64(1), object(1)\n",
      "memory usage: 30.0+ KB\n"
     ]
    }
   ],
   "source": [
    "weather.info()"
   ]
  },
  {
   "cell_type": "code",
   "execution_count": 10,
   "metadata": {},
   "outputs": [
    {
     "name": "stdout",
     "output_type": "stream",
     "text": [
      "<class 'pandas.core.frame.DataFrame'>\n",
      "Index: 1 entries, 971 to 971\n",
      "Data columns (total 6 columns):\n",
      " #   Column       Non-Null Count  Dtype  \n",
      "---  ------       --------------  -----  \n",
      " 0   site_id      1 non-null      int64  \n",
      " 1   building_id  1 non-null      int64  \n",
      " 2   primary_use  1 non-null      object \n",
      " 3   square_feet  1 non-null      int64  \n",
      " 4   year_built   0 non-null      float64\n",
      " 5   floor_count  0 non-null      float64\n",
      "dtypes: float64(2), int64(3), object(1)\n",
      "memory usage: 56.0+ bytes\n"
     ]
    }
   ],
   "source": [
    "building.info()"
   ]
  },
  {
   "cell_type": "code",
   "execution_count": 11,
   "metadata": {},
   "outputs": [
    {
     "name": "stdout",
     "output_type": "stream",
     "text": [
      "<class 'pandas.core.frame.DataFrame'>\n",
      "Index: 24 entries, 0 to 69\n",
      "Data columns (total 16 columns):\n",
      " #   Column              Non-Null Count  Dtype  \n",
      "---  ------              --------------  -----  \n",
      " 0   building_id         24 non-null     int64  \n",
      " 1   meter               24 non-null     int64  \n",
      " 2   timestamp           24 non-null     object \n",
      " 3   meter_reading       24 non-null     float64\n",
      " 4   site_id             24 non-null     int64  \n",
      " 5   primary_use         24 non-null     object \n",
      " 6   square_feet         24 non-null     int64  \n",
      " 7   year_built          0 non-null      float64\n",
      " 8   floor_count         0 non-null      float64\n",
      " 9   air_temperature     24 non-null     float64\n",
      " 10  cloud_coverage      24 non-null     float64\n",
      " 11  dew_temperature     24 non-null     float64\n",
      " 12  precip_depth_1_hr   24 non-null     float64\n",
      " 13  sea_level_pressure  24 non-null     float64\n",
      " 14  wind_direction      21 non-null     float64\n",
      " 15  wind_speed          24 non-null     float64\n",
      "dtypes: float64(10), int64(4), object(2)\n",
      "memory usage: 3.2+ KB\n"
     ]
    }
   ],
   "source": [
    "full_original = pd.merge(train, building, on=['building_id'], how='left')\n",
    "full_original = pd.merge(full_original, weather, on=['site_id', 'timestamp'], how='left')\n",
    "full_original = full_original[full_original['meter']==0]\n",
    "full_original.info()"
   ]
  },
  {
   "cell_type": "code",
   "execution_count": 12,
   "metadata": {},
   "outputs": [],
   "source": [
    "df = full_original[['meter_reading', 'site_id', 'air_temperature', 'cloud_coverage',\n",
    "       'dew_temperature', 'precip_depth_1_hr', 'sea_level_pressure',\n",
    "       'wind_direction', 'wind_speed', 'square_feet', 'year_built']]"
   ]
  },
  {
   "cell_type": "markdown",
   "metadata": {},
   "source": [
    "#### provide your answer here, drop the decimals"
   ]
  },
  {
   "cell_type": "code",
   "execution_count": 13,
   "metadata": {},
   "outputs": [
    {
     "data": {
      "text/plain": [
       "(7257434.5, 6158.0)"
      ]
     },
     "execution_count": 13,
     "metadata": {},
     "output_type": "execute_result"
    }
   ],
   "source": [
    "# target variable sum\n",
    "sumY = df['meter_reading'].sum()\n",
    "\n",
    "# input variables sum\n",
    "sumX = df.drop(columns=['meter_reading']).sum().sum()\n",
    "\n",
    "sumX, sumY"
   ]
  },
  {
   "cell_type": "markdown",
   "metadata": {},
   "source": [
    "**submit your answer**"
   ]
  },
  {
   "cell_type": "code",
   "execution_count": 14,
   "metadata": {
    "scrolled": true
   },
   "outputs": [
    {
     "data": {
      "text/html": [
       "\n",
       "                    <b>task_01 submitted.</b> <b><font color=\"blue\">your grade is 5</font></b> \n",
       "                    <p/><pre>----- grader message -------</pre>checking for building_id=971 and date='2016-02-05'<br/><b>correct</b><pre>----------------------------</pre>\n",
       "                    <p/><p/>\n",
       "                    <div style=\"font-size:10px\"><b>SUBMISSION CODE</b> lEC0UrYL66NEj39Vq72kv1GNcfy1j3S4KnzEp6ghSzizEYiJOK+utfdwKfsbeIwq5hWhqHD5HNE87JNBBI2IWOJBgx4fh7gGBlB4/j3nP9jLU33db0GmZrICLUdnY07xcNUXMFD0a2yx0b6Pftc7nPlB86eJvvWvuSuguPoFkOc=</div>\n",
       "                    "
      ],
      "text/plain": [
       "<IPython.core.display.HTML object>"
      ]
     },
     "metadata": {},
     "output_type": "display_data"
    }
   ],
   "source": [
    "student.submit_task(globals(), task_id=\"task_01\");"
   ]
  },
  {
   "cell_type": "markdown",
   "metadata": {},
   "source": [
    "## Task 2. Time series missing data fix\n",
    "\n",
    "Observe how we can fill in missing data in a time series, by simply repeating the last seen value in the missing places."
   ]
  },
  {
   "cell_type": "code",
   "execution_count": 15,
   "metadata": {},
   "outputs": [
    {
     "data": {
      "image/png": "[encoded data removed]",
      "text/plain": [
       "<IPython.core.display.Image object>"
      ]
     },
     "execution_count": 15,
     "metadata": {},
     "output_type": "execute_result"
    }
   ],
   "source": [
    "Image(\"local/imgs/timeseries-ffill.png\")"
   ]
  },
  {
   "cell_type": "markdown",
   "metadata": {},
   "source": [
    "Using the weather data from the ASHRAE Kaggle competition that you must have downloaded in the previous task you will have to:\n",
    "\n",
    "1. Extract the time series for the variable `cloud_coverage` for **site_id=3** and for the **date assigned to you** (execute the cell below). This time series will have 24 values (including missing values).\n",
    "1. Fill in the missing data by repeating the last seen value as in the example above\n",
    "1. Report the time series as a Pyton list in the variable `fixed_ts` below\n",
    "\n",
    "Again, use any tool of your choice to generate your result"
   ]
  },
  {
   "cell_type": "code",
   "execution_count": 16,
   "metadata": {},
   "outputs": [
    {
     "name": "stdout",
     "output_type": "stream",
     "text": [
      "your date        2016-02-05\n"
     ]
    }
   ],
   "source": [
    "from local.lib import labutils\n",
    "_, date = labutils.biddate_for_student(student.user_id)\n",
    "print (\"your date       \", date)"
   ]
  },
  {
   "cell_type": "markdown",
   "metadata": {},
   "source": [
    "#### fill in your fixed time series"
   ]
  },
  {
   "cell_type": "code",
   "execution_count": 17,
   "metadata": {},
   "outputs": [
    {
     "name": "stdout",
     "output_type": "stream",
     "text": [
      "[8.0, 8.0, 8.0, 8.0, 8.0, 8.0, 8.0, 8.0, 8.0, 8.0, 8.0, 8.0, 8.0, 8.0, 8.0, 8.0, 8.0, 4.0, 4.0, 4.0, 2.0, 2.0, 2.0, 2.0]\n"
     ]
    }
   ],
   "source": [
    "df = weather[weather.site_id == 3]\n",
    "fixed_ts = []\n",
    "lastSeen = None\n",
    "for val in df.cloud_coverage:\n",
    "    if  np.isnan(val):\n",
    "        fixed_ts.append(lastSeen)\n",
    "    else:\n",
    "        fixed_ts.append(val)\n",
    "        lastSeen = val\n",
    "print(fixed_ts)"
   ]
  },
  {
   "cell_type": "markdown",
   "metadata": {},
   "source": [
    "**submit your answer**"
   ]
  },
  {
   "cell_type": "code",
   "execution_count": 18,
   "metadata": {
    "scrolled": false
   },
   "outputs": [
    {
     "data": {
      "text/html": [
       "\n",
       "                    <b>task_02 submitted.</b> <b><font color=\"blue\">your grade is 5</font></b> \n",
       "                    <p/><pre>----- grader message -------</pre>checking for date='2016-02-05'<br/><b>correct</b><pre>----------------------------</pre>\n",
       "                    <p/><p/>\n",
       "                    <div style=\"font-size:10px\"><b>SUBMISSION CODE</b> 5j/VsueAgtua3GhCP9SU3JttHg0p7Ywhate6esazE9okOIcuiI8uajbcvqANXvSk/jfGUpp/GSwCdULBbl+2/ID7IHOgAG4+6Pl+YK3oXFYI1I3mVP5RScYNGhWp7CAgWZA/V0BjHVtiHC79h5sN0DsQTdbxGTrfeitTjsrJUi8=</div>\n",
       "                    "
      ],
      "text/plain": [
       "<IPython.core.display.HTML object>"
      ]
     },
     "metadata": {},
     "output_type": "display_data"
    }
   ],
   "source": [
    "student.submit_task(globals(), task_id=\"task_02\");"
   ]
  },
  {
   "cell_type": "markdown",
   "metadata": {},
   "source": [
    "## Task 3. Build a time series predictive dataset\n",
    "\n",
    "You will now build a predictive dataset for a single time series. This dataset can later be used with predictive models. The machine learning task we will try to adress is the following:\n",
    "\n",
    "> **Given three consecutive points of a time series, we want a model to predict the next one.**\n",
    "\n",
    "Starting from a time series (a list of of $n$ numbers) you will have to build a dataset such as in the following example\n",
    "\n"
   ]
  },
  {
   "cell_type": "code",
   "execution_count": 19,
   "metadata": {},
   "outputs": [
    {
     "name": "stdout",
     "output_type": "stream",
     "text": [
      "[44 45 42 38 47 45 46 44 47 52 53 48 46 42 42 34 30 27 24 24]\n"
     ]
    },
    {
     "data": {
      "image/png": "[encoded data removed]",
      "text/plain": [
       "<Figure size 1000x200 with 1 Axes>"
      ]
     },
     "metadata": {},
     "output_type": "display_data"
    }
   ],
   "source": [
    "\n",
    "import numpy as np\n",
    "import matplotlib.pyplot as plt\n",
    "%matplotlib inline\n",
    "\n",
    "ts = np.r_[44, 45, 42, 38, 47, 45, 46, 44, 47, 52, 53, 48, 46, 42, 42, 34, 30, 27, 24, 24]\n",
    "plt.figure(figsize=(10,2))\n",
    "plt.xticks(range(len(ts)), range(len(ts)))\n",
    "plt.grid();\n",
    "plt.plot(ts)\n",
    "print (ts)\n"
   ]
  },
  {
   "cell_type": "markdown",
   "metadata": {},
   "source": [
    "dataset:\n",
    "\n",
    "    [[[44, 45, 42], 38],\n",
    "     [[45, 42, 38], 47],\n",
    "     [[42, 38, 47], 45],\n",
    "     [[38, 47, 45], 46],\n",
    "     [[47, 45, 46], 44],\n",
    "     [[45, 46, 44], 47],\n",
    "     [[46, 44, 47], 52],\n",
    "     [[44, 47, 52], 53],\n",
    "     [[47, 52, 53], 48],\n",
    "     [[52, 53, 48], 46],\n",
    "     [[53, 48, 46], 42],\n",
    "     [[48, 46, 42], 42],\n",
    "     [[46, 42, 42], 34],\n",
    "     [[42, 42, 34], 30],\n",
    "     [[42, 34, 30], 27],\n",
    "     [[34, 30, 27], 24],\n",
    "     [[30, 27, 24], 24]]"
   ]
  },
  {
   "cell_type": "markdown",
   "metadata": {},
   "source": [
    "observe that each line in the dataset represents one input-output pair, like a sliding window over the time series. \n",
    "\n",
    "We created two components:\n",
    "\n",
    "- a matrix $X$ of dimensions `(len(ts)-n,3)` gathering all inputs, in the case above with dimensions `(17,3)`\n",
    "- a vector $y$ of dimension `(len(ts)-n)` gathering each corresponding expected output, in the case above with dimensions `(17)`.\n",
    "\n",
    "In this task, you will have to:\n",
    "\n",
    "1. Take the time series you created in the previous task, where you fixed the missing values.\n",
    "1. Build $X$, $y$ such as above with $n=3$. If your time series has 24 data points, then X dimensions will be (21,3) and y dimensions will be (21)\n",
    "\n",
    "Again, use any tool of your choice to generate your result."
   ]
  },
  {
   "cell_type": "markdown",
   "metadata": {},
   "source": [
    "#### fill in your answer\n"
   ]
  },
  {
   "cell_type": "code",
   "execution_count": 20,
   "metadata": {},
   "outputs": [],
   "source": [
    "X = [fixed_ts[i:i+3]for i in range(len(fixed_ts)-3)]\n",
    "\n",
    "y = [fixed_ts[i+3]for i in range(len(fixed_ts)-3)]"
   ]
  },
  {
   "cell_type": "markdown",
   "metadata": {},
   "source": [
    "**submit your answer**"
   ]
  },
  {
   "cell_type": "code",
   "execution_count": 21,
   "metadata": {
    "scrolled": false
   },
   "outputs": [
    {
     "data": {
      "text/html": [
       "\n",
       "                    <b>task_03 submitted.</b> <b><font color=\"blue\">your grade is 5</font></b> \n",
       "                    <p/><pre>----- grader message -------</pre>checking for date='2016-02-05'<br/><b>correct</b><pre>----------------------------</pre>\n",
       "                    <p/><p/>\n",
       "                    <div style=\"font-size:10px\"><b>SUBMISSION CODE</b> xzNDwgLApUPxDo4RDABUHdaqFhqrBf5QIESmfF+9EJK84WErCSYoqvfABHCHr8ZO8F8UlPDR0gZkMG5R6b1IjDNaRtb2Fh6elsvI1mZ/TIgB1V8G6DE4WlDVAJ7M+h3QSzRIBoQMLqST2fCywqQzNZsIz8N9zO+fz2DiYlAaB80=</div>\n",
       "                    "
      ],
      "text/plain": [
       "<IPython.core.display.HTML object>"
      ]
     },
     "metadata": {},
     "output_type": "display_data"
    }
   ],
   "source": [
    "student.submit_task(globals(), task_id=\"task_03\");"
   ]
  }
 ],
 "metadata": {
  "kernelspec": {
   "display_name": "ISI-venv",
   "language": "python",
   "name": "python3"
  },
  "language_info": {
   "codemirror_mode": {
    "name": "ipython",
    "version": 3
   },
   "file_extension": ".py",
   "mimetype": "text/x-python",
   "name": "python",
   "nbconvert_exporter": "python",
   "pygments_lexer": "ipython3",
   "version": "3.11.2"
  }
 },
 "nbformat": 4,
 "nbformat_minor": 2
}
