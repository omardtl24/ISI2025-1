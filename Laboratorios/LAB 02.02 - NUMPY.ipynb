{
 "cells": [
  {
   "cell_type": "markdown",
   "metadata": {},
   "source": [
    "# LAB 02.02 - Numpy"
   ]
  },
  {
   "cell_type": "code",
   "execution_count": 3,
   "metadata": {},
   "outputs": [],
   "source": [
    "!wget --no-cache -O init.py -q https://raw.githubusercontent.com/fagonzalezo/ai4eng-unal/main/content/init.py\n",
    "import init; init.init(force_download=False); init.get_weblink()\n"
   ]
  },
  {
   "cell_type": "code",
   "execution_count": 4,
   "metadata": {},
   "outputs": [],
   "source": [
    "from local.lib.rlxmoocapi import submit, session\n",
    "session.LoginSequence(endpoint=init.endpoint, course_id=init.course_id, lab_id=\"L02.02\", varname=\"student\");"
   ]
  },
  {
   "cell_type": "code",
   "execution_count": 1,
   "metadata": {},
   "outputs": [],
   "source": [
    "import numpy as np"
   ]
  },
  {
   "cell_type": "markdown",
   "metadata": {},
   "source": [
    "## Task 1: Cauchy Matrix\n",
    "\n",
    "\n",
    "Given two vectors (1D `numpy` arrays), $x$ and $y$, build the Cauchy Matrix:\n",
    "\n",
    "\n",
    "$$C_{ij}=\\:\\: \\frac{1}{x_i-y_j}$$\n",
    "\n",
    "See https://en.wikipedia.org/wiki/Cauchy_matrix, the elements of the matrix are the results of substracting the correpsonding positions in the $x$ and $y$ vectors where the rows correspond to $x$ and the columns to $y$.\n",
    "\n",
    "**NOTE**: if there is any division by zero, you must raise a `ValueError` exception.\n",
    "\n",
    "**HINT**: create a matrix with zeros with the desired output shape, use broadcasting of $x$ as row vector, and then broadcasting of $y$ as column vector with `reshape(-1,1)`\n",
    "\n",
    "**CHALLENGE**: build a function with maximum four lines of code, including checking for zeros and raising the exception.\n",
    "\n",
    "**Execution example**\n",
    "\n",
    "```python\n",
    ">> x = np.array([45, 31, 67, 75, 54])\n",
    ">> y = np.array([17,  7, 15, 15, 18])\n",
    ">> cauchy(c,y)\n",
    "array([[0.03571429, 0.02631579, 0.03333333, 0.03333333, 0.03703704],\n",
    "       [0.07142857, 0.04166667, 0.0625    , 0.0625    , 0.07692308],\n",
    "       [0.02      , 0.01666667, 0.01923077, 0.01923077, 0.02040816],\n",
    "       [0.01724138, 0.01470588, 0.01666667, 0.01666667, 0.01754386],\n",
    "       [0.02702703, 0.0212766 , 0.02564103, 0.02564103, 0.02777778]])\n",
    "```"
   ]
  },
  {
   "cell_type": "code",
   "execution_count": 2,
   "metadata": {},
   "outputs": [],
   "source": [
    "def cauchy(x, y):\n",
    "    if np.any(x==y): raise ValueError(\"x and y must be different\")\n",
    "    r = 1 / (x.reshape(-1,1) - y.reshape(1,-1))\n",
    "    return r"
   ]
  },
  {
   "cell_type": "markdown",
   "metadata": {},
   "source": [
    "**check your code manually**"
   ]
  },
  {
   "cell_type": "code",
   "execution_count": 3,
   "metadata": {},
   "outputs": [
    {
     "data": {
      "text/plain": [
       "array([[0.03571429, 0.02631579, 0.03333333, 0.03333333, 0.03703704],\n",
       "       [0.07142857, 0.04166667, 0.0625    , 0.0625    , 0.07692308],\n",
       "       [0.02      , 0.01666667, 0.01923077, 0.01923077, 0.02040816],\n",
       "       [0.01724138, 0.01470588, 0.01666667, 0.01666667, 0.01754386],\n",
       "       [0.02702703, 0.0212766 , 0.02564103, 0.02564103, 0.02777778]])"
      ]
     },
     "execution_count": 3,
     "metadata": {},
     "output_type": "execute_result"
    }
   ],
   "source": [
    "x = np.array([45, 31, 67, 75, 54])\n",
    "y = np.array([17,  7, 15, 15, 18])\n",
    "cauchy(x,y)"
   ]
  },
  {
   "cell_type": "markdown",
   "metadata": {},
   "source": [
    "this execution should raise a `ValueError` exception"
   ]
  },
  {
   "cell_type": "code",
   "execution_count": 4,
   "metadata": {},
   "outputs": [
    {
     "ename": "ValueError",
     "evalue": "x and y must be different",
     "output_type": "error",
     "traceback": [
      "\u001b[1;31m---------------------------------------------------------------------------\u001b[0m",
      "\u001b[1;31mValueError\u001b[0m                                Traceback (most recent call last)",
      "Cell \u001b[1;32mIn[4], line 3\u001b[0m\n\u001b[0;32m      1\u001b[0m x \u001b[38;5;241m=\u001b[39m np\u001b[38;5;241m.\u001b[39marray([\u001b[38;5;241m45\u001b[39m, \u001b[38;5;241m31\u001b[39m, \u001b[38;5;241m67\u001b[39m, \u001b[38;5;241m75\u001b[39m, \u001b[38;5;241m54\u001b[39m])\n\u001b[0;32m      2\u001b[0m y \u001b[38;5;241m=\u001b[39m np\u001b[38;5;241m.\u001b[39marray([\u001b[38;5;241m17\u001b[39m,  \u001b[38;5;241m7\u001b[39m, \u001b[38;5;241m15\u001b[39m, \u001b[38;5;241m75\u001b[39m, \u001b[38;5;241m18\u001b[39m])\n\u001b[1;32m----> 3\u001b[0m \u001b[43mcauchy\u001b[49m\u001b[43m(\u001b[49m\u001b[43mx\u001b[49m\u001b[43m,\u001b[49m\u001b[43my\u001b[49m\u001b[43m)\u001b[49m\n",
      "Cell \u001b[1;32mIn[2], line 2\u001b[0m, in \u001b[0;36mcauchy\u001b[1;34m(x, y)\u001b[0m\n\u001b[0;32m      1\u001b[0m \u001b[38;5;28;01mdef\u001b[39;00m \u001b[38;5;21mcauchy\u001b[39m(x, y):\n\u001b[1;32m----> 2\u001b[0m     \u001b[38;5;28;01mif\u001b[39;00m np\u001b[38;5;241m.\u001b[39many(x\u001b[38;5;241m==\u001b[39my): \u001b[38;5;28;01mraise\u001b[39;00m \u001b[38;5;167;01mValueError\u001b[39;00m(\u001b[38;5;124m\"\u001b[39m\u001b[38;5;124mx and y must be different\u001b[39m\u001b[38;5;124m\"\u001b[39m)\n\u001b[0;32m      3\u001b[0m     r \u001b[38;5;241m=\u001b[39m \u001b[38;5;241m1\u001b[39m \u001b[38;5;241m/\u001b[39m (x\u001b[38;5;241m.\u001b[39mreshape(\u001b[38;5;241m1\u001b[39m,\u001b[38;5;241m-\u001b[39m\u001b[38;5;241m1\u001b[39m) \u001b[38;5;241m-\u001b[39m y\u001b[38;5;241m.\u001b[39mreshape(\u001b[38;5;241m-\u001b[39m\u001b[38;5;241m1\u001b[39m,\u001b[38;5;241m1\u001b[39m))\n\u001b[0;32m      4\u001b[0m     \u001b[38;5;28;01mreturn\u001b[39;00m r\n",
      "\u001b[1;31mValueError\u001b[0m: x and y must be different"
     ]
    }
   ],
   "source": [
    "x = np.array([45, 31, 67, 75, 54])\n",
    "y = np.array([17,  7, 15, 75, 18])\n",
    "cauchy(x,y)"
   ]
  },
  {
   "cell_type": "markdown",
   "metadata": {},
   "source": [
    "**submit your code**"
   ]
  },
  {
   "cell_type": "code",
   "execution_count": 17,
   "metadata": {
    "scrolled": true
   },
   "outputs": [],
   "source": [
    "student.submit_task(globals(), task_id=\"task_01\");"
   ]
  },
  {
   "cell_type": "markdown",
   "metadata": {},
   "source": [
    "## Task 2: Position of closest scalar\n",
    "\n",
    "Given a 1D vector $x$, find the position of the closest element to $v$\n",
    "\n",
    "\n",
    "**Execution example**:\n",
    "\n",
    "```python\n",
    ">> x=np.arange(25,55,3)\n",
    ">> minimo(x,34)\n",
    "3\n",
    "```\n",
    "\n",
    "**HINT**: use [`np.argmin`](https://docs.scipy.org/doc/numpy/reference/generated/numpy.argmin.html)\n",
    "\n",
    "**CHALLENGE**: solve it with one line of code"
   ]
  },
  {
   "cell_type": "code",
   "execution_count": 5,
   "metadata": {},
   "outputs": [],
   "source": [
    "def minimo(x,v):\n",
    "    return np.argmin(np.abs(x-v))"
   ]
  },
  {
   "cell_type": "markdown",
   "metadata": {},
   "source": [
    "**check manually your code**"
   ]
  },
  {
   "cell_type": "code",
   "execution_count": 6,
   "metadata": {},
   "outputs": [
    {
     "data": {
      "text/plain": [
       "3"
      ]
     },
     "execution_count": 6,
     "metadata": {},
     "output_type": "execute_result"
    }
   ],
   "source": [
    "x = np.arange(25,55,3)\n",
    "v = 34\n",
    "minimo(x,v)"
   ]
  },
  {
   "cell_type": "markdown",
   "metadata": {},
   "source": [
    "**submit your code**"
   ]
  },
  {
   "cell_type": "code",
   "execution_count": 27,
   "metadata": {
    "scrolled": true
   },
   "outputs": [],
   "source": [
    "student.submit_task(globals(), task_id=\"task_02\");"
   ]
  },
  {
   "cell_type": "markdown",
   "metadata": {},
   "source": [
    "## Task 3: Substracting row mean\n",
    "\n",
    "Given a matrix, your function must return a new one with the same dimensions in which each component is substracted the mean of its own row.\n",
    "\n",
    "\n",
    "**Execution example**\n",
    "```python\n",
    ">> X = np.array([[1, 2, 3], [4, 5, 6],[7,8,9]])\n",
    ">> media(X)\n",
    "array([[-1.,  0.,  1.],\n",
    "       [-1.,  0.,  1.],\n",
    "       [-1.,  0.,  1.]])\n",
    "```\n",
    "\n",
    "**HINT**: use broadcasting\n",
    "\n",
    "**CHALLENGE**: solve it with one line of code"
   ]
  },
  {
   "cell_type": "code",
   "execution_count": 13,
   "metadata": {},
   "outputs": [],
   "source": [
    "def media(X):\n",
    "    return X - X.mean(axis=1).reshape(-1,1)"
   ]
  },
  {
   "cell_type": "markdown",
   "metadata": {},
   "source": [
    "**check your code manually**"
   ]
  },
  {
   "cell_type": "code",
   "execution_count": 14,
   "metadata": {},
   "outputs": [
    {
     "data": {
      "text/plain": [
       "array([[-1.,  0.,  1.],\n",
       "       [-1.,  0.,  1.],\n",
       "       [-1.,  0.,  1.]])"
      ]
     },
     "execution_count": 14,
     "metadata": {},
     "output_type": "execute_result"
    }
   ],
   "source": [
    "X = np.array([[1, 2, 3], [4, 5, 6],[7,8,9]])\n",
    "media(X)"
   ]
  },
  {
   "cell_type": "markdown",
   "metadata": {},
   "source": [
    "**submit your code**"
   ]
  },
  {
   "cell_type": "code",
   "execution_count": 32,
   "metadata": {
    "scrolled": false
   },
   "outputs": [],
   "source": [
    "student.submit_task(globals(), task_id=\"task_03\");"
   ]
  },
  {
   "cell_type": "markdown",
   "metadata": {},
   "source": [
    "## Task 4: Double the diagonal\n",
    "\n",
    "Complete the following function such that it returns the same matrix received in $X$ but with its diagonal multiplied by 2. Assume $X$ is a square matrix (with the same number of rows and columns).\n",
    "\n",
    "**Execution example**\n",
    "\n",
    "```python\n",
    ">> X = np.array([[79, 45, 67,  8, 37],\n",
    ">>               [47, 40,  5, 79, 86],\n",
    ">>               [72, 25, 44, 45, 22],\n",
    ">>               [12, 85,  8, 53, 28],\n",
    ">>               [ 4, 37, 36, 40, 16]])\n",
    ">> \n",
    ">> doublediag(X)\n",
    "\n",
    "array([[158.,  45.,  67.,   8.,  37.],\n",
    "       [ 47.,  80.,   5.,  79.,  86.],\n",
    "       [ 72.,  25.,  88.,  45.,  22.],\n",
    "       [ 12.,  85.,   8., 106.,  28.],\n",
    "       [  4.,  37.,  36.,  40.,  32.]])\n",
    "```\n",
    "\n",
    "**HINT**: use [`np.eye`](https://docs.scipy.org/doc/numpy/reference/generated/numpy.eye.html)\n",
    "\n",
    "**CHALLENGE**: solve with one line of code"
   ]
  },
  {
   "cell_type": "code",
   "execution_count": 23,
   "metadata": {},
   "outputs": [],
   "source": [
    "def doublediag(X):\n",
    "    return np.eye(X.shape[0])* X + X"
   ]
  },
  {
   "cell_type": "markdown",
   "metadata": {},
   "source": [
    "**check manually your code**"
   ]
  },
  {
   "cell_type": "code",
   "execution_count": 24,
   "metadata": {},
   "outputs": [
    {
     "data": {
      "text/plain": [
       "array([[158.,  45.,  67.,   8.,  37.],\n",
       "       [ 47.,  80.,   5.,  79.,  86.],\n",
       "       [ 72.,  25.,  88.,  45.,  22.],\n",
       "       [ 12.,  85.,   8., 106.,  28.],\n",
       "       [  4.,  37.,  36.,  40.,  32.]])"
      ]
     },
     "execution_count": 24,
     "metadata": {},
     "output_type": "execute_result"
    }
   ],
   "source": [
    "X = np.array([[79, 45, 67,  8, 37],\n",
    "              [47, 40,  5, 79, 86],\n",
    "              [72, 25, 44, 45, 22],\n",
    "              [12, 85,  8, 53, 28],\n",
    "              [ 4, 37, 36, 40, 16]])\n",
    "doublediag(X)"
   ]
  },
  {
   "cell_type": "markdown",
   "metadata": {},
   "source": [
    "**submit your code**"
   ]
  },
  {
   "cell_type": "code",
   "execution_count": 37,
   "metadata": {
    "scrolled": true
   },
   "outputs": [],
   "source": [
    "student.submit_task(globals(), task_id=\"task_04\");"
   ]
  }
 ],
 "metadata": {
  "kernelspec": {
   "display_name": "Python 3",
   "language": "python",
   "name": "python3"
  },
  "language_info": {
   "codemirror_mode": {
    "name": "ipython",
    "version": 3
   },
   "file_extension": ".py",
   "mimetype": "text/x-python",
   "name": "python",
   "nbconvert_exporter": "python",
   "pygments_lexer": "ipython3",
   "version": "3.11.9"
  }
 },
 "nbformat": 4,
 "nbformat_minor": 2
}
