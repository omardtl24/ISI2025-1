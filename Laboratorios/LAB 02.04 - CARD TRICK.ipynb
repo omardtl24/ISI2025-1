{
 "cells": [
  {
   "cell_type": "markdown",
   "metadata": {},
   "source": [
    "# LAB 02.04 - Card trick"
   ]
  },
  {
   "cell_type": "code",
   "execution_count": 1,
   "metadata": {},
   "outputs": [],
   "source": [
    "!wget --no-cache -O init.py -q https://raw.githubusercontent.com/fagonzalezo/ai4eng-unal/main/content/init.py\n",
    "import init; init.init(force_download=False); init.get_weblink()\n"
   ]
  },
  {
   "cell_type": "code",
   "execution_count": 54,
   "metadata": {},
   "outputs": [],
   "source": [
    "from local.lib.rlxmoocapi import submit, session\n",
    "session.LoginSequence(endpoint=init.endpoint, course_id=init.course_id, lab_id=\"L02.04\", varname=\"student\");"
   ]
  },
  {
   "cell_type": "code",
   "execution_count": 1,
   "metadata": {},
   "outputs": [],
   "source": [
    "import numpy as np\n",
    "import pandas as pd\n",
    "import itertools"
   ]
  },
  {
   "cell_type": "markdown",
   "metadata": {},
   "source": [
    "## Setup \n",
    "\n",
    "make sure to **watch the corresponding video** to understand the card trick.\n",
    "\n",
    "### create a deck for a given configuration\n",
    "\n",
    "The following function returns a list of **card names**. The `shuffle` argument is self evident. We use two letters as an arbitrary card name so that we have enough names for large configurations."
   ]
  },
  {
   "cell_type": "code",
   "execution_count": 2,
   "metadata": {},
   "outputs": [],
   "source": [
    "\n",
    "def create_deck(n_heaps, cards_per_heap, shuffle=False):\n",
    "    n_cards = n_heaps * cards_per_heap\n",
    "    \n",
    "    chars = [chr(i) for i in np.arange(26)+65]\n",
    "    names = [i+j for i,j in itertools.product(chars, chars)]    \n",
    "\n",
    "    assert n_cards < len(names), \"cannot have more than %d cards\"%len(names)\n",
    "    \n",
    "    c = np.r_[names[:n_cards]]\n",
    "    if shuffle:\n",
    "        c = np.random.permutation(c)\n",
    "    return c"
   ]
  },
  {
   "cell_type": "code",
   "execution_count": 3,
   "metadata": {},
   "outputs": [
    {
     "data": {
      "text/plain": [
       "array(['AA', 'AB', 'AC', 'AD', 'AE', 'AF', 'AG', 'AH', 'AI', 'AJ', 'AK',\n",
       "       'AL', 'AM', 'AN', 'AO', 'AP', 'AQ', 'AR', 'AS', 'AT', 'AU', 'AV',\n",
       "       'AW', 'AX', 'AY', 'AZ', 'BA', 'BB', 'BC', 'BD'], dtype='<U2')"
      ]
     },
     "execution_count": 3,
     "metadata": {},
     "output_type": "execute_result"
    }
   ],
   "source": [
    "create_deck(n_heaps=3, cards_per_heap=10, shuffle=False)"
   ]
  },
  {
   "cell_type": "code",
   "execution_count": 4,
   "metadata": {},
   "outputs": [
    {
     "data": {
      "text/plain": [
       "array(['AT', 'AA', 'AH', 'AN', 'AU', 'AK', 'AM', 'AQ', 'AE', 'AJ', 'AC',\n",
       "       'AR', 'AI', 'AB', 'AS', 'AD', 'AG', 'AF', 'AO', 'AL', 'AP'],\n",
       "      dtype='<U2')"
      ]
     },
     "execution_count": 4,
     "metadata": {},
     "output_type": "execute_result"
    }
   ],
   "source": [
    "create_deck(n_heaps=3, cards_per_heap=7, shuffle=True)"
   ]
  },
  {
   "cell_type": "code",
   "execution_count": 5,
   "metadata": {},
   "outputs": [
    {
     "data": {
      "text/plain": [
       "array(['BA', 'BB', 'AU', 'AE', 'AK', 'AW', 'AI', 'BD', 'AA', 'AG', 'AO',\n",
       "       'AP', 'BC', 'AZ', 'AF', 'AT', 'AR', 'AB', 'AH', 'AV', 'AQ', 'AY',\n",
       "       'AM', 'AL', 'AC', 'AJ', 'AX', 'AS', 'AN', 'AD'], dtype='<U2')"
      ]
     },
     "execution_count": 5,
     "metadata": {},
     "output_type": "execute_result"
    }
   ],
   "source": [
    "create_deck(n_heaps=3, cards_per_heap=10, shuffle=True)"
   ]
  },
  {
   "cell_type": "markdown",
   "metadata": {},
   "source": [
    "### pick a card\n",
    "\n",
    "the following function randomly picks a card from a deck"
   ]
  },
  {
   "cell_type": "code",
   "execution_count": 6,
   "metadata": {},
   "outputs": [],
   "source": [
    "def pick_card(c):\n",
    "    return np.random.choice(c)"
   ]
  },
  {
   "cell_type": "code",
   "execution_count": 7,
   "metadata": {},
   "outputs": [
    {
     "data": {
      "text/plain": [
       "'AH'"
      ]
     },
     "execution_count": 7,
     "metadata": {},
     "output_type": "execute_result"
    }
   ],
   "source": [
    "c = create_deck(n_heaps=3, cards_per_heap=7, shuffle=True)\n",
    "n = pick_card(c)\n",
    "n"
   ]
  },
  {
   "cell_type": "markdown",
   "metadata": {},
   "source": [
    "## Task 1. Make the heaps\n",
    "\n",
    "Complete the following funcion so that given desk (as a list returned by `create_deck`) distributes the cards in `n_heaps` according to the procedure of the card trick shown in the video.\n",
    "\n",
    "The heaps must be a list of `n_heaps` lists, each one with `len(c)/n_heaps` card names.\n",
    "\n",
    "`n_heaps` will be an odd number (so that later we can put the chosen heap in the middle of the others), and must be a divisor of the total number of cards in the deck (so that all heaps have the same number of cards)\n",
    "\n",
    "For instance, \n",
    "\n",
    "    >>> n_heaps = 3\n",
    "    >>> c = create_deck(n_heaps=n_heaps, cards_per_heap=7)\n",
    "    >>> h = make_heaps(c, n_heaps)\n",
    "    >>> print(\"deck\", c)\n",
    "    >>> print(\"heaps\")\n",
    "    >>> h   \n",
    "\n",
    "    deck ['AA' 'AB' 'AC' 'AD' 'AE' 'AF' 'AG' 'AH' 'AI' 'AJ' 'AK' 'AL' 'AM' 'AN'\n",
    "     'AO' 'AP' 'AQ' 'AR' 'AS' 'AT' 'AU']\n",
    "    heaps\n",
    "    [['AA', 'AD', 'AG', 'AJ', 'AM', 'AP', 'AS'],\n",
    "     ['AB', 'AE', 'AH', 'AK', 'AN', 'AQ', 'AT'],\n",
    "     ['AC', 'AF', 'AI', 'AL', 'AO', 'AR', 'AU']]\n",
    "  \n",
    "or also\n",
    "\n",
    "    >>> n_heaps = 5\n",
    "    >>> c = create_deck(n_heaps=n_heaps, cards_per_heap=3, shuffle=True)\n",
    "    >>> h = make_heaps(c, n_heaps)\n",
    "    >>> print(\"deck\", c)\n",
    "    >>> print(\"heaps\")\n",
    "    >>> h\n",
    "    \n",
    "    deck ['AA' 'AJ' 'AM' 'AK' 'AH' 'AF' 'AD' 'AN' 'AB' 'AC' 'AG' 'AE' 'AL' 'AI'\n",
    "     'AO']\n",
    "    heaps\n",
    "    [['AA', 'AF', 'AG'],\n",
    "     ['AJ', 'AD', 'AE'],\n",
    "     ['AM', 'AN', 'AL'],\n",
    "     ['AK', 'AB', 'AI'],\n",
    "     ['AH', 'AC', 'AO']]"
   ]
  },
  {
   "cell_type": "code",
   "execution_count": 8,
   "metadata": {},
   "outputs": [],
   "source": [
    "def make_heaps(c, n_heaps=3):\n",
    "    assert n_heaps%2==1, \"must have an odd number of heaps\"\n",
    "    assert len(c)%n_heaps==0, \"the length of the deck must be a multiple of the number of heaps\"\n",
    "    c = np.array(c)\n",
    "    h = c.reshape((len(c)//n_heaps,n_heaps)).T\n",
    "    return [list(i) for i in h]"
   ]
  },
  {
   "cell_type": "markdown",
   "metadata": {},
   "source": [
    "manually check your code"
   ]
  },
  {
   "cell_type": "code",
   "execution_count": 9,
   "metadata": {},
   "outputs": [
    {
     "name": "stdout",
     "output_type": "stream",
     "text": [
      "deck ['AA' 'AB' 'AC' 'AD' 'AE' 'AF' 'AG' 'AH' 'AI' 'AJ' 'AK' 'AL' 'AM' 'AN'\n",
      " 'AO' 'AP' 'AQ' 'AR' 'AS' 'AT' 'AU']\n",
      "heaps\n"
     ]
    },
    {
     "data": {
      "text/plain": [
       "[['AA', 'AD', 'AG', 'AJ', 'AM', 'AP', 'AS'],\n",
       " ['AB', 'AE', 'AH', 'AK', 'AN', 'AQ', 'AT'],\n",
       " ['AC', 'AF', 'AI', 'AL', 'AO', 'AR', 'AU']]"
      ]
     },
     "execution_count": 9,
     "metadata": {},
     "output_type": "execute_result"
    }
   ],
   "source": [
    "n_heaps = 3\n",
    "c = create_deck(n_heaps=n_heaps, cards_per_heap=7)\n",
    "h = make_heaps(c, n_heaps)\n",
    "\n",
    "print(\"deck\", c)\n",
    "print(\"heaps\")\n",
    "h\n"
   ]
  },
  {
   "cell_type": "code",
   "execution_count": 10,
   "metadata": {},
   "outputs": [
    {
     "name": "stdout",
     "output_type": "stream",
     "text": [
      "deck ['AA' 'AG' 'AK' 'AF' 'AM' 'AB' 'AI' 'AC' 'AD' 'AE' 'AO' 'AL' 'AJ' 'AH'\n",
      " 'AN']\n",
      "heaps\n"
     ]
    },
    {
     "data": {
      "text/plain": [
       "[['AA', 'AB', 'AO'],\n",
       " ['AG', 'AI', 'AL'],\n",
       " ['AK', 'AC', 'AJ'],\n",
       " ['AF', 'AD', 'AH'],\n",
       " ['AM', 'AE', 'AN']]"
      ]
     },
     "execution_count": 10,
     "metadata": {},
     "output_type": "execute_result"
    }
   ],
   "source": [
    "n_heaps = 5\n",
    "c = create_deck(n_heaps=n_heaps, cards_per_heap=3, shuffle=True)\n",
    "h = make_heaps(c, n_heaps)\n",
    "\n",
    "print(\"deck\", c)\n",
    "print(\"heaps\")\n",
    "h\n"
   ]
  },
  {
   "cell_type": "markdown",
   "metadata": {},
   "source": [
    "**submit your code**"
   ]
  },
  {
   "cell_type": "code",
   "execution_count": 73,
   "metadata": {
    "scrolled": false
   },
   "outputs": [],
   "source": [
    "student.submit_task(globals(), task_id=\"task_01\");"
   ]
  },
  {
   "cell_type": "markdown",
   "metadata": {},
   "source": [
    "## Task 2: Organize the heaps\n",
    "\n",
    "Complete the following funcion so that given a set of heaps (such as the ones returned by the function of the previous task) and a card name:\n",
    "\n",
    "1. Finds what is the heap that contains the card\n",
    "1. Makes randomly two groups of `n_heaps//2` heaps of the remaining heaps\n",
    "   - if `n_heaps=3` this will be two groups of one heap each, since `3//2=1`\n",
    "   - if `n_heaps=5`, it will be two groups of two heaps each, since `5//2=2`\n",
    "   - etc. (observe `//` is the integer division)\n",
    "1. Concatenates the cards in one group with the cards in the heap containing the given card name. with the cards of the second group\n",
    "\n",
    "For example\n",
    "\n",
    "    >>> n_heaps = 3\n",
    "    >>> c = create_deck(n_heaps=n_heaps, cards_per_heap=7, shuffle=True)\n",
    "    >>> n = pick_card(c)\n",
    "    >>> print (\"card picked\", n)\n",
    "    >>> h = make_heaps(c, n_heaps)\n",
    "    >>> h\n",
    "    \n",
    "    card picked AD\n",
    "    [['AP', 'AC', 'AE', 'AO', 'AQ', 'AF', 'AM'],\n",
    "     ['AN', 'AT', 'AB', 'AJ', 'AU', 'AI', 'AS'],\n",
    "     ['AR', 'AD', 'AA', 'AG', 'AH', 'AL', 'AK']]\n",
    "    \n",
    "    \n",
    "    >>> new_c = collect_heaps(h, n)\n",
    "    >>> print (new_c)\n",
    "    \n",
    "    ['AP', 'AC', 'AE', 'AO', 'AQ', 'AF', 'AM', 'AR', 'AD', 'AA', 'AG', 'AH', 'AL', 'AK', 'AN', 'AT', 'AB', 'AJ', 'AU', 'AI', 'AS']"
   ]
  },
  {
   "cell_type": "code",
   "execution_count": 11,
   "metadata": {},
   "outputs": [],
   "source": [
    "def collect_heaps(h, n):\n",
    "    h = np.array(h)\n",
    "    found = np.argwhere(h==n)[0][0]\n",
    "    mid = len(h)//2\n",
    "    r = h.copy()\n",
    "    r[[mid, found]] = r[[found, mid]]\n",
    "    r = r.flatten()\n",
    "    return list(r)"
   ]
  },
  {
   "cell_type": "markdown",
   "metadata": {},
   "source": [
    "manually check your code"
   ]
  },
  {
   "cell_type": "code",
   "execution_count": 12,
   "metadata": {},
   "outputs": [
    {
     "name": "stdout",
     "output_type": "stream",
     "text": [
      "card picked AF\n"
     ]
    },
    {
     "data": {
      "text/plain": [
       "[['AM', 'AH', 'AN', 'AR', 'AE', 'AQ', 'AB'],\n",
       " ['AA', 'AS', 'AD', 'AF', 'AI', 'AT', 'AL'],\n",
       " ['AP', 'AJ', 'AO', 'AU', 'AG', 'AK', 'AC']]"
      ]
     },
     "execution_count": 12,
     "metadata": {},
     "output_type": "execute_result"
    }
   ],
   "source": [
    "n_heaps = 3\n",
    "c = create_deck(n_heaps=n_heaps, cards_per_heap=7, shuffle=True)\n",
    "n = pick_card(c)\n",
    "print (\"card picked\", n)\n",
    "h = make_heaps(c, n_heaps)\n",
    "h"
   ]
  },
  {
   "cell_type": "code",
   "execution_count": 13,
   "metadata": {},
   "outputs": [
    {
     "name": "stdout",
     "output_type": "stream",
     "text": [
      "['AM', 'AH', 'AN', 'AR', 'AE', 'AQ', 'AB', 'AA', 'AS', 'AD', 'AF', 'AI', 'AT', 'AL', 'AP', 'AJ', 'AO', 'AU', 'AG', 'AK', 'AC']\n"
     ]
    }
   ],
   "source": [
    "new_c = collect_heaps(h, n)\n",
    "print (new_c)"
   ]
  },
  {
   "cell_type": "markdown",
   "metadata": {},
   "source": [
    "**submit your code**"
   ]
  },
  {
   "cell_type": "code",
   "execution_count": 57,
   "metadata": {
    "scrolled": false
   },
   "outputs": [],
   "source": [
    "student.submit_task(globals(), task_id=\"task_02\");"
   ]
  },
  {
   "cell_type": "markdown",
   "metadata": {},
   "source": [
    "## Task 3: Run the card trick\n",
    "\n",
    "Complete the following function such that, when given a a deck of cards `c`, and picked card `n` and a number of heaps `n_heaps`, returns the position of the picked card after doing three times the collect. The position number **must start at zero**.\n",
    "\n",
    "For instance:\n",
    "\n",
    "- For `n_heaps=3` and `cards_per_heap=7`, the final position will always be 10 (which is 11 if you start counting at 1)\n",
    "- For `n_heaps=3` and `cards_per_heap=4`, the final position will be sometimes 5 and sometimes 6 depending on the position of the picked card on the initial deck.\n",
    "- For `n_heaps=5` and `cards_per_heap=3`, the final position will always be 7\n",
    "\n",
    "**You must return an `int`**"
   ]
  },
  {
   "cell_type": "code",
   "execution_count": 14,
   "metadata": {},
   "outputs": [],
   "source": [
    "def run(c, n, n_heaps=3):\n",
    "\n",
    "    def shuffle(c):\n",
    "        h = make_heaps(c, n_heaps)\n",
    "        return collect_heaps(h, n)\n",
    "    \n",
    "    r = c\n",
    "    for _ in range(3):\n",
    "        r = shuffle(r)\n",
    "    r = np.array(r)\n",
    "    return np.argwhere(r==n)[0][0]"
   ]
  },
  {
   "cell_type": "markdown",
   "metadata": {},
   "source": [
    "manually check your code"
   ]
  },
  {
   "cell_type": "code",
   "execution_count": 15,
   "metadata": {},
   "outputs": [
    {
     "name": "stdout",
     "output_type": "stream",
     "text": [
      "desk ['AA' 'AB' 'AC' 'AD' 'AE' 'AF' 'AG' 'AH' 'AI' 'AJ' 'AK' 'AL' 'AM' 'AN'\n",
      " 'AO' 'AP' 'AQ' 'AR' 'AS' 'AT' 'AU']\n",
      "position of card AA is 10\n"
     ]
    }
   ],
   "source": [
    "n_heaps = 3\n",
    "c = create_deck(n_heaps=n_heaps, cards_per_heap=7)\n",
    "picked = \"AA\"\n",
    "print (\"desk\", c)\n",
    "pos = run(c, picked, n_heaps=n_heaps)\n",
    "print (\"position of card %s is %d\"%(picked, pos))"
   ]
  },
  {
   "cell_type": "code",
   "execution_count": 16,
   "metadata": {},
   "outputs": [
    {
     "name": "stdout",
     "output_type": "stream",
     "text": [
      "deck ['AA' 'AB' 'AC' 'AD' 'AE' 'AF' 'AG' 'AH' 'AI' 'AJ' 'AK' 'AL']\n",
      "position of card AI is 6\n"
     ]
    }
   ],
   "source": [
    "n_heaps = 3\n",
    "c = create_deck(n_heaps=n_heaps, cards_per_heap=4)\n",
    "picked = \"AI\"\n",
    "print (\"deck\", c)\n",
    "pos = run(c, picked, n_heaps=n_heaps)\n",
    "print (\"position of card %s is %d\"%(picked, pos))"
   ]
  },
  {
   "cell_type": "markdown",
   "metadata": {},
   "source": [
    "**submit your code**"
   ]
  },
  {
   "cell_type": "code",
   "execution_count": 115,
   "metadata": {
    "scrolled": false
   },
   "outputs": [],
   "source": [
    "student.submit_task(globals(), task_id=\"task_03\");"
   ]
  },
  {
   "cell_type": "markdown",
   "metadata": {},
   "source": [
    "## Task 4: Run the trick using the math\n",
    "\n",
    "Given:\n",
    "\n",
    "- $n_h$: A number of heaps\n",
    "- $c_h$: the number of cards per heap\n",
    "- $i$: the position of a card \n",
    "\n",
    "The new position of the card after one cycle of making and collecting the heaps will be:\n",
    "\n",
    "$$c_h(n_h\\div2)+i\\div n_h$$\n",
    "\n",
    "Complete the following function so that it has the same functionality of the previous task, but applying only this formula without using the simulation above. You **MUST NOT ADD** or remove lines from the function skeleton below, **ONLY** fill in the `...`\n",
    "\n",
    "You must get the same results as the previous task.\n",
    "\n",
    "**HINT**: Use `np.argwhere` to get the initial position of the card in the deck"
   ]
  },
  {
   "cell_type": "code",
   "execution_count": 17,
   "metadata": {},
   "outputs": [],
   "source": [
    "def mrun(c, picked_card, n_heaps=3):\n",
    "    assert len(c)%n_heaps==0, \"the number of heaps must be a divisor of the deck length\"\n",
    "    \n",
    "    ch = len(c)//n_heaps # cards per heap\n",
    "    nh = n_heaps\n",
    "\n",
    "    def new_pos(i):\n",
    "        return ch * (nh // 2) + (i // nh)\n",
    "    \n",
    "    i = np.argwhere(c==picked_card)[0][0]\n",
    "    p1 = new_pos(i)  # the position of the card after the first round\n",
    "    p2 = new_pos(p1)  # the position of the card after the second round\n",
    "    p3 = new_pos(p2)  # the position of the card after the last round\n",
    "    \n",
    "    return p3"
   ]
  },
  {
   "cell_type": "code",
   "execution_count": 18,
   "metadata": {},
   "outputs": [
    {
     "name": "stdout",
     "output_type": "stream",
     "text": [
      "deck ['AA' 'AB' 'AC' 'AD' 'AE' 'AF' 'AG' 'AH' 'AI' 'AJ' 'AK' 'AL']\n",
      "position of card AI is 6\n"
     ]
    }
   ],
   "source": [
    "n_heaps = 3\n",
    "c = create_deck(n_heaps=n_heaps, cards_per_heap=4)\n",
    "picked = \"AI\"\n",
    "print (\"deck\", c)\n",
    "pos = mrun(c, picked, n_heaps=n_heaps)\n",
    "print (\"position of card %s is %d\"%(picked, pos))"
   ]
  },
  {
   "cell_type": "markdown",
   "metadata": {},
   "source": [
    "**submit your code**"
   ]
  },
  {
   "cell_type": "code",
   "execution_count": 160,
   "metadata": {
    "scrolled": false
   },
   "outputs": [],
   "source": [
    "student.submit_task(globals(), task_id=\"task_04\");"
   ]
  },
  {
   "cell_type": "markdown",
   "metadata": {},
   "source": [
    "## You are done. Now, some considerations\n",
    "\n",
    "### using the math is always faster!!!\n",
    "\n"
   ]
  },
  {
   "cell_type": "code",
   "execution_count": 19,
   "metadata": {},
   "outputs": [
    {
     "name": "stdout",
     "output_type": "stream",
     "text": [
      "deck ['AA' 'AB' 'AC' 'AD' 'AE' 'AF' 'AG' 'AH' 'AI' 'AJ' 'AK' 'AL']\n"
     ]
    }
   ],
   "source": [
    "n_heaps = 3\n",
    "c = create_deck(n_heaps=n_heaps, cards_per_heap=4)\n",
    "picked = \"AI\"\n",
    "print (\"deck\", c)"
   ]
  },
  {
   "cell_type": "code",
   "execution_count": 20,
   "metadata": {},
   "outputs": [
    {
     "name": "stdout",
     "output_type": "stream",
     "text": [
      "119 µs ± 3.02 µs per loop (mean ± std. dev. of 7 runs, 10,000 loops each)\n"
     ]
    }
   ],
   "source": [
    "%timeit run(c, picked, n_heaps=n_heaps)"
   ]
  },
  {
   "cell_type": "code",
   "execution_count": 21,
   "metadata": {},
   "outputs": [
    {
     "name": "stdout",
     "output_type": "stream",
     "text": [
      "7.2 µs ± 54.7 ns per loop (mean ± std. dev. of 7 runs, 100,000 loops each)\n"
     ]
    }
   ],
   "source": [
    "%timeit mrun(c, picked, n_heaps=n_heaps)"
   ]
  },
  {
   "cell_type": "markdown",
   "metadata": {},
   "source": [
    "### you can check if the trick works for a specific configuration"
   ]
  },
  {
   "cell_type": "code",
   "execution_count": 22,
   "metadata": {},
   "outputs": [
    {
     "name": "stdout",
     "output_type": "stream",
     "text": [
      "deck ['AA' 'AB' 'AC' 'AD' 'AE' 'AF' 'AG' 'AH' 'AI' 'AJ' 'AK' 'AL' 'AM' 'AN'\n",
      " 'AO' 'AP' 'AQ' 'AR' 'AS' 'AT' 'AU']\n"
     ]
    },
    {
     "data": {
      "text/html": [
       "<div>\n",
       "<style scoped>\n",
       "    .dataframe tbody tr th:only-of-type {\n",
       "        vertical-align: middle;\n",
       "    }\n",
       "\n",
       "    .dataframe tbody tr th {\n",
       "        vertical-align: top;\n",
       "    }\n",
       "\n",
       "    .dataframe thead th {\n",
       "        text-align: right;\n",
       "    }\n",
       "</style>\n",
       "<table border=\"1\" class=\"dataframe\">\n",
       "  <thead>\n",
       "    <tr style=\"text-align: right;\">\n",
       "      <th></th>\n",
       "      <th>card picked</th>\n",
       "      <th>final position</th>\n",
       "    </tr>\n",
       "  </thead>\n",
       "  <tbody>\n",
       "    <tr>\n",
       "      <th>0</th>\n",
       "      <td>AA</td>\n",
       "      <td>10</td>\n",
       "    </tr>\n",
       "    <tr>\n",
       "      <th>1</th>\n",
       "      <td>AB</td>\n",
       "      <td>10</td>\n",
       "    </tr>\n",
       "    <tr>\n",
       "      <th>2</th>\n",
       "      <td>AC</td>\n",
       "      <td>10</td>\n",
       "    </tr>\n",
       "    <tr>\n",
       "      <th>3</th>\n",
       "      <td>AD</td>\n",
       "      <td>10</td>\n",
       "    </tr>\n",
       "    <tr>\n",
       "      <th>4</th>\n",
       "      <td>AE</td>\n",
       "      <td>10</td>\n",
       "    </tr>\n",
       "    <tr>\n",
       "      <th>5</th>\n",
       "      <td>AF</td>\n",
       "      <td>10</td>\n",
       "    </tr>\n",
       "    <tr>\n",
       "      <th>6</th>\n",
       "      <td>AG</td>\n",
       "      <td>10</td>\n",
       "    </tr>\n",
       "    <tr>\n",
       "      <th>7</th>\n",
       "      <td>AH</td>\n",
       "      <td>10</td>\n",
       "    </tr>\n",
       "    <tr>\n",
       "      <th>8</th>\n",
       "      <td>AI</td>\n",
       "      <td>10</td>\n",
       "    </tr>\n",
       "    <tr>\n",
       "      <th>9</th>\n",
       "      <td>AJ</td>\n",
       "      <td>10</td>\n",
       "    </tr>\n",
       "    <tr>\n",
       "      <th>10</th>\n",
       "      <td>AK</td>\n",
       "      <td>10</td>\n",
       "    </tr>\n",
       "    <tr>\n",
       "      <th>11</th>\n",
       "      <td>AL</td>\n",
       "      <td>10</td>\n",
       "    </tr>\n",
       "    <tr>\n",
       "      <th>12</th>\n",
       "      <td>AM</td>\n",
       "      <td>10</td>\n",
       "    </tr>\n",
       "    <tr>\n",
       "      <th>13</th>\n",
       "      <td>AN</td>\n",
       "      <td>10</td>\n",
       "    </tr>\n",
       "    <tr>\n",
       "      <th>14</th>\n",
       "      <td>AO</td>\n",
       "      <td>10</td>\n",
       "    </tr>\n",
       "    <tr>\n",
       "      <th>15</th>\n",
       "      <td>AP</td>\n",
       "      <td>10</td>\n",
       "    </tr>\n",
       "    <tr>\n",
       "      <th>16</th>\n",
       "      <td>AQ</td>\n",
       "      <td>10</td>\n",
       "    </tr>\n",
       "    <tr>\n",
       "      <th>17</th>\n",
       "      <td>AR</td>\n",
       "      <td>10</td>\n",
       "    </tr>\n",
       "    <tr>\n",
       "      <th>18</th>\n",
       "      <td>AS</td>\n",
       "      <td>10</td>\n",
       "    </tr>\n",
       "    <tr>\n",
       "      <th>19</th>\n",
       "      <td>AT</td>\n",
       "      <td>10</td>\n",
       "    </tr>\n",
       "    <tr>\n",
       "      <th>20</th>\n",
       "      <td>AU</td>\n",
       "      <td>10</td>\n",
       "    </tr>\n",
       "  </tbody>\n",
       "</table>\n",
       "</div>"
      ],
      "text/plain": [
       "   card picked  final position\n",
       "0           AA              10\n",
       "1           AB              10\n",
       "2           AC              10\n",
       "3           AD              10\n",
       "4           AE              10\n",
       "5           AF              10\n",
       "6           AG              10\n",
       "7           AH              10\n",
       "8           AI              10\n",
       "9           AJ              10\n",
       "10          AK              10\n",
       "11          AL              10\n",
       "12          AM              10\n",
       "13          AN              10\n",
       "14          AO              10\n",
       "15          AP              10\n",
       "16          AQ              10\n",
       "17          AR              10\n",
       "18          AS              10\n",
       "19          AT              10\n",
       "20          AU              10"
      ]
     },
     "execution_count": 22,
     "metadata": {},
     "output_type": "execute_result"
    }
   ],
   "source": [
    "n_heaps = 3\n",
    "cards_per_heap = 7\n",
    "\n",
    "c = create_deck(n_heaps, cards_per_heap)\n",
    "\n",
    "r = [[n, mrun(c,n, n_heaps=n_heaps)] for n in c]\n",
    "print (\"deck\", c)\n",
    "pd.DataFrame(r, columns=[\"card picked\", \"final position\"])"
   ]
  },
  {
   "cell_type": "code",
   "execution_count": 23,
   "metadata": {},
   "outputs": [
    {
     "name": "stdout",
     "output_type": "stream",
     "text": [
      "deck ['AA' 'AB' 'AC' 'AD' 'AE' 'AF' 'AG' 'AH' 'AI' 'AJ' 'AK' 'AL']\n"
     ]
    },
    {
     "data": {
      "text/html": [
       "<div>\n",
       "<style scoped>\n",
       "    .dataframe tbody tr th:only-of-type {\n",
       "        vertical-align: middle;\n",
       "    }\n",
       "\n",
       "    .dataframe tbody tr th {\n",
       "        vertical-align: top;\n",
       "    }\n",
       "\n",
       "    .dataframe thead th {\n",
       "        text-align: right;\n",
       "    }\n",
       "</style>\n",
       "<table border=\"1\" class=\"dataframe\">\n",
       "  <thead>\n",
       "    <tr style=\"text-align: right;\">\n",
       "      <th></th>\n",
       "      <th>card picked</th>\n",
       "      <th>final position</th>\n",
       "    </tr>\n",
       "  </thead>\n",
       "  <tbody>\n",
       "    <tr>\n",
       "      <th>0</th>\n",
       "      <td>AA</td>\n",
       "      <td>5</td>\n",
       "    </tr>\n",
       "    <tr>\n",
       "      <th>1</th>\n",
       "      <td>AB</td>\n",
       "      <td>5</td>\n",
       "    </tr>\n",
       "    <tr>\n",
       "      <th>2</th>\n",
       "      <td>AC</td>\n",
       "      <td>5</td>\n",
       "    </tr>\n",
       "    <tr>\n",
       "      <th>3</th>\n",
       "      <td>AD</td>\n",
       "      <td>5</td>\n",
       "    </tr>\n",
       "    <tr>\n",
       "      <th>4</th>\n",
       "      <td>AE</td>\n",
       "      <td>5</td>\n",
       "    </tr>\n",
       "    <tr>\n",
       "      <th>5</th>\n",
       "      <td>AF</td>\n",
       "      <td>5</td>\n",
       "    </tr>\n",
       "    <tr>\n",
       "      <th>6</th>\n",
       "      <td>AG</td>\n",
       "      <td>6</td>\n",
       "    </tr>\n",
       "    <tr>\n",
       "      <th>7</th>\n",
       "      <td>AH</td>\n",
       "      <td>6</td>\n",
       "    </tr>\n",
       "    <tr>\n",
       "      <th>8</th>\n",
       "      <td>AI</td>\n",
       "      <td>6</td>\n",
       "    </tr>\n",
       "    <tr>\n",
       "      <th>9</th>\n",
       "      <td>AJ</td>\n",
       "      <td>6</td>\n",
       "    </tr>\n",
       "    <tr>\n",
       "      <th>10</th>\n",
       "      <td>AK</td>\n",
       "      <td>6</td>\n",
       "    </tr>\n",
       "    <tr>\n",
       "      <th>11</th>\n",
       "      <td>AL</td>\n",
       "      <td>6</td>\n",
       "    </tr>\n",
       "  </tbody>\n",
       "</table>\n",
       "</div>"
      ],
      "text/plain": [
       "   card picked  final position\n",
       "0           AA               5\n",
       "1           AB               5\n",
       "2           AC               5\n",
       "3           AD               5\n",
       "4           AE               5\n",
       "5           AF               5\n",
       "6           AG               6\n",
       "7           AH               6\n",
       "8           AI               6\n",
       "9           AJ               6\n",
       "10          AK               6\n",
       "11          AL               6"
      ]
     },
     "execution_count": 23,
     "metadata": {},
     "output_type": "execute_result"
    }
   ],
   "source": [
    "n_heaps = 3\n",
    "cards_per_heap = 4\n",
    "\n",
    "c = create_deck(n_heaps, cards_per_heap)\n",
    "\n",
    "r = [[n, mrun(c,n, n_heaps=n_heaps)] for n in c]\n",
    "print (\"deck\", c)\n",
    "pd.DataFrame(r, columns=[\"card picked\", \"final position\"])"
   ]
  }
 ],
 "metadata": {
  "kernelspec": {
   "display_name": "Python 3",
   "language": "python",
   "name": "python3"
  },
  "language_info": {
   "codemirror_mode": {
    "name": "ipython",
    "version": 3
   },
   "file_extension": ".py",
   "mimetype": "text/x-python",
   "name": "python",
   "nbconvert_exporter": "python",
   "pygments_lexer": "ipython3",
   "version": "3.11.9"
  }
 },
 "nbformat": 4,
 "nbformat_minor": 4
}
