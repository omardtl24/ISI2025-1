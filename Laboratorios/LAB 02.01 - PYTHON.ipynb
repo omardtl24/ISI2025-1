{
 "cells": [
  {
   "cell_type": "markdown",
   "metadata": {},
   "source": [
    "# LAB 02.01 - Python"
   ]
  },
  {
   "cell_type": "code",
   "execution_count": 1,
   "metadata": {},
   "outputs": [
    {
     "data": {
      "text/html": [
       "\n",
       "<meta name=\"google-signin-client_id\"\n",
       "      content=\"461673936472-kdjosv61up3ac1ajeuq6qqu72upilmls.apps.googleusercontent.com\"/>\n",
       "<script src=\"https://apis.google.com/js/client:platform.js?onload=google_button_start\"></script>\n",
       "    "
      ],
      "text/plain": [
       "<IPython.core.display.HTML object>"
      ]
     },
     "metadata": {},
     "output_type": "display_data"
    },
    {
     "data": {
      "text/html": [
       "<h3>See <a href='https://m5knaekxo6.execute-api.us-west-2.amazonaws.com/dev-v0001/rlxmooc/web/login' target='_blank'>my courses and progress</a></h2>"
      ],
      "text/plain": [
       "<IPython.core.display.HTML object>"
      ]
     },
     "execution_count": 1,
     "metadata": {},
     "output_type": "execute_result"
    }
   ],
   "source": [
    "!wget --no-cache -O init.py -q https://raw.githubusercontent.com/fagonzalezo/ai4eng-unal/main/content/init.py\n",
    "import init; init.init(force_download=False); init.get_weblink()\n"
   ]
  },
  {
   "cell_type": "code",
   "execution_count": null,
   "metadata": {},
   "outputs": [],
   "source": [
    "from local.lib.rlxmoocapi import submit, session\n",
    "session.LoginSequence(endpoint=init.endpoint, course_id=init.course_id, lab_id=\"L02.01\", varname=\"student\");"
   ]
  },
  {
   "cell_type": "code",
   "execution_count": 3,
   "metadata": {},
   "outputs": [],
   "source": [
    "import numpy as np"
   ]
  },
  {
   "cell_type": "markdown",
   "metadata": {},
   "source": [
    "## Task 1: Palindrome\n",
    "\n",
    "Determine whether an integer number $n$ is a palindrome, this is, if it is the same number when read left to right and when read right to left. Return `True` if so, otherwise return `False`.\n",
    "\n",
    "**Execution example**\n",
    "\n",
    "```python\n",
    ">>> palindromo(n=3456543)\n",
    "True\n",
    "\n",
    ">>> palindromo(n=543)\n",
    "False\n",
    "```\n",
    "\n",
    "**hint**: transform it into string, reverse it and check equality\n",
    "\n",
    "**challenge**: use one single line of code"
   ]
  },
  {
   "cell_type": "code",
   "execution_count": 4,
   "metadata": {},
   "outputs": [],
   "source": [
    "def palindromo(n): # assume n is an integer\n",
    "    n_str = str(n)\n",
    "    r = n_str == n_str[::-1]\n",
    "    return r # r must be boolean True/False"
   ]
  },
  {
   "cell_type": "markdown",
   "metadata": {},
   "source": [
    "check your code manually"
   ]
  },
  {
   "cell_type": "code",
   "execution_count": 5,
   "metadata": {},
   "outputs": [
    {
     "name": "stdout",
     "output_type": "stream",
     "text": [
      "True\n",
      "False\n"
     ]
    }
   ],
   "source": [
    "print (palindromo(12321))\n",
    "print (palindromo(12322))"
   ]
  },
  {
   "cell_type": "markdown",
   "metadata": {},
   "source": [
    "**submit your code**"
   ]
  },
  {
   "cell_type": "code",
   "execution_count": 6,
   "metadata": {
    "scrolled": true
   },
   "outputs": [
    {
     "data": {
      "text/html": [
       "\n",
       "                    <b>task_01 submitted.</b> <b><font color=\"blue\">your grade is 5</font></b> \n",
       "                    <p/><pre>----- grader message -------</pre>testing with 100 random calls<br/><b>correct</b><pre>----------------------------</pre>\n",
       "                    <p/><p/>\n",
       "                    <div style=\"font-size:10px\"><b>SUBMISSION CODE</b> pZA4AfQDga1Zyg+SDDywIcIiETrcaRfLEbbt0uGWGO/5BZKjroI9PN8ttUE4TIjGNlcvV8RlFkzjP5Px3E1cjseD6ky2kTlLZY6HsxOMVcSQ+reU8nHv1edQiOFpNiEfzggI+MjdUf3fTzfArwtJXjA2Si+EeDhQbtmBIlO+Hyc=</div>\n",
       "                    "
      ],
      "text/plain": [
       "<IPython.core.display.HTML object>"
      ]
     },
     "metadata": {},
     "output_type": "display_data"
    }
   ],
   "source": [
    "student.submit_task(globals(), task_id=\"task_01\");"
   ]
  },
  {
   "cell_type": "markdown",
   "metadata": {},
   "source": [
    "## Task 2: Money Change\n",
    "\n",
    "En este ejercicio, su programa recibirá un monto entre 1 y 99 centavos de Dolar, Escriba un metodo que retorne en una lista, cuantas monedas son necesarias para devolverle a alguien dicho valor, si únicamente se cuenta con monedas de 1, 10 y 25 centavos. La lista debe entregarse de la siguiente manera:\n",
    "\n",
    "In this task your function will receive an amount between 1 and 99 cents and will have to return a list with three numbers [$n_1$, $n_{10}$, $n_{25}$], specifying how many coins of 1, 10 and 25 cents are required to obtain the given amonut. We only have coints of 1, 10 and 25 cents. There are no other kinds of coins.\n",
    "\n",
    "If the amount given is less than 1 or more than 99 you must return `None`.\n",
    "\n",
    "**Execution example**\n",
    "\n",
    "```python\n",
    ">>> change_money(n=55)\n",
    "[5,0,2]\n",
    "\n",
    ">>> change_money(n=200)\n",
    "None\n",
    "\n",
    ">>> change_money(n=47)\n",
    "[2,2,1]\n",
    "```\n",
    "\n",
    "**hint**: use `\\\\` for integer division\n"
   ]
  },
  {
   "cell_type": "code",
   "execution_count": 7,
   "metadata": {},
   "outputs": [],
   "source": [
    "\n",
    "def change_money(n):\n",
    "    r=[0,0,0] #recall: r[0]== n_1, r[1]== n_10 y r[2]== n_25 \n",
    "    if n>99 or n<1: return None\n",
    "    r[2] = n//25\n",
    "    n = n - r[2]*25\n",
    "    r[1] = n//10\n",
    "    n = n - r[1]*10\n",
    "    r[0] = n\n",
    "    return r"
   ]
  },
  {
   "cell_type": "code",
   "execution_count": 8,
   "metadata": {},
   "outputs": [
    {
     "data": {
      "text/plain": [
       "([5, 0, 2], None, [2, 2, 1])"
      ]
     },
     "execution_count": 8,
     "metadata": {},
     "output_type": "execute_result"
    }
   ],
   "source": [
    "change_money(55) , change_money(200), change_money(47)"
   ]
  },
  {
   "cell_type": "markdown",
   "metadata": {},
   "source": [
    "**submit your code**"
   ]
  },
  {
   "cell_type": "code",
   "execution_count": 9,
   "metadata": {
    "scrolled": true
   },
   "outputs": [
    {
     "data": {
      "text/html": [
       "\n",
       "                    <b>task_02 submitted.</b> <b><font color=\"blue\">your grade is 5</font></b> \n",
       "                    <p/><pre>----- grader message -------</pre>testing with 100 random calls<br/><b>correct</b><pre>----------------------------</pre>\n",
       "                    <p/><p/>\n",
       "                    <div style=\"font-size:10px\"><b>SUBMISSION CODE</b> bvhFmGz2pW8kDoBWTiSynrC8LL9NGwmn3f69sSaxbO5wM3SctnfmeheisbxRL15z4+wx/a1cMwRbgvsDOYyNjUsSwA7rwEySjC7N9CGOM0Pk1m+3pvnG9HhwPyn0NhMhPM2CjWOcJNtsUpAXSEA9Rs0/vaB2B1dk5CjFyi2nTQg=</div>\n",
       "                    "
      ],
      "text/plain": [
       "<IPython.core.display.HTML object>"
      ]
     },
     "metadata": {},
     "output_type": "display_data"
    }
   ],
   "source": [
    "student.submit_task(globals(), task_id=\"task_02\");\n"
   ]
  },
  {
   "cell_type": "markdown",
   "metadata": {},
   "source": [
    "## Task 3: Fibonacci\n",
    "\n",
    "Complete the function below so that given an integer $n$ it computes the $n^{th}$ term of the Fibonacci series:\n",
    "\n",
    "$$ f_n = f_{n-1}+f_{n-2}$$ \n",
    "\n",
    "Where $$f_0=0 \\:\\:\\text{ y }\\:\\:f_1=1 $$ so that: $$f_2=1+0=1$$ $$f_3=1+1=2$$ $$f_4=2+1=3$$ and so on\n",
    "\n",
    "### Execution example \n",
    "```python\n",
    "\n",
    ">>> fibonacci(10)\n",
    "55\n",
    "\n",
    ">>> fibonacci(36)\n",
    "14930352\n",
    "```"
   ]
  },
  {
   "cell_type": "code",
   "execution_count": 10,
   "metadata": {},
   "outputs": [],
   "source": [
    "def fibonacci(n):\n",
    "    f_1=1\n",
    "    f_2=1\n",
    "    suma=0\n",
    "    \n",
    "    for i in range(3,n+1):\n",
    "        suma = f_1 + f_2\n",
    "        f_1 = f_2\n",
    "        f_2 = suma\n",
    "    return suma"
   ]
  },
  {
   "cell_type": "markdown",
   "metadata": {},
   "source": [
    "**check manually your code**"
   ]
  },
  {
   "cell_type": "code",
   "execution_count": 11,
   "metadata": {},
   "outputs": [
    {
     "data": {
      "text/plain": [
       "(55, 14930352)"
      ]
     },
     "execution_count": 11,
     "metadata": {},
     "output_type": "execute_result"
    }
   ],
   "source": [
    "fibonacci(10), fibonacci(36)"
   ]
  },
  {
   "cell_type": "markdown",
   "metadata": {},
   "source": [
    "**submit your code**"
   ]
  },
  {
   "cell_type": "code",
   "execution_count": 12,
   "metadata": {
    "scrolled": true
   },
   "outputs": [
    {
     "data": {
      "text/html": [
       "\n",
       "                    <b>task_03 submitted.</b> <b><font color=\"blue\">your grade is 5</font></b> \n",
       "                    <p/><pre>----- grader message -------</pre>testing with 100 random calls<br/><b>correct</b><pre>----------------------------</pre>\n",
       "                    <p/><p/>\n",
       "                    <div style=\"font-size:10px\"><b>SUBMISSION CODE</b> mtYDmM3wtRBgFxVVcgsAeGpYCNuLzMiKiM3U5IoJ22rieVSBMd7sMGIRGKCvDwPouaw/2gfppHypMOQYyrZNdCw0w0aG8/CUu5qfCagKKwz+WSIP0mZqFxpE64JVHCkVzvGcUB0Xs+eVODYrWo2WhP8Nriq5flKELWCLgRiAC8Q=</div>\n",
       "                    "
      ],
      "text/plain": [
       "<IPython.core.display.HTML object>"
      ]
     },
     "metadata": {},
     "output_type": "display_data"
    }
   ],
   "source": [
    "student.submit_task(globals(), task_id=\"task_03\");"
   ]
  },
  {
   "cell_type": "markdown",
   "metadata": {},
   "source": [
    "## Task 4: Perfect number\n",
    "\n",
    "complete the following function so that it accepts an integer $n$ and returns `True` if $n$ is a perfect number and `False` otherwise.\n",
    "\n",
    "A perfect number is a positive integer that is equal to the sum of its positive divisors, excluding the number itself. For instance $6=3+2+1$ \n",
    "\n",
    "See https://en.wikipedia.org/wiki/Perfect_number\n",
    "\n",
    "**Execution example**\n",
    "```python\n",
    ">>> perfecto(6)\n",
    "True\n",
    "\n",
    ">>> perfecto(51)\n",
    "False\n",
    "\n",
    ">>> perfecto(496)\n",
    "True\n",
    "```\n",
    "**hint**: make a loop of all numbers up to $n$ and use the modulus operator `%` to identify which are the divisors, then sum them up.\n",
    "\n"
   ]
  },
  {
   "cell_type": "code",
   "execution_count": 13,
   "metadata": {},
   "outputs": [
    {
     "data": {
      "text/plain": [
       "(0, 0, 0, 2, 0, 5, 4)"
      ]
     },
     "execution_count": 13,
     "metadata": {},
     "output_type": "execute_result"
    }
   ],
   "source": [
    "n = 12\n",
    "n%2, n%3, n%4, n%5, n%6, n%7, n%8"
   ]
  },
  {
   "cell_type": "code",
   "execution_count": 14,
   "metadata": {},
   "outputs": [],
   "source": [
    "\n",
    "def perfecto(n):\n",
    "    r = 0\n",
    "    for i in range(1,n):\n",
    "        if n%i == 0:\n",
    "            r += i\n",
    "    return r == n"
   ]
  },
  {
   "cell_type": "markdown",
   "metadata": {},
   "source": [
    "**check your answer**"
   ]
  },
  {
   "cell_type": "code",
   "execution_count": 15,
   "metadata": {},
   "outputs": [
    {
     "data": {
      "text/plain": [
       "(True, False, True)"
      ]
     },
     "execution_count": 15,
     "metadata": {},
     "output_type": "execute_result"
    }
   ],
   "source": [
    "perfecto(6), perfecto(51), perfecto(496)\n"
   ]
  },
  {
   "cell_type": "markdown",
   "metadata": {},
   "source": [
    "**submit your code**"
   ]
  },
  {
   "cell_type": "code",
   "execution_count": 16,
   "metadata": {
    "scrolled": true
   },
   "outputs": [
    {
     "data": {
      "text/html": [
       "\n",
       "                    <b>task_04 submitted.</b> <b><font color=\"blue\">your grade is 5</font></b> \n",
       "                    <p/><pre>----- grader message -------</pre>testing with 100 random calls<br/><b>correct</b><pre>----------------------------</pre>\n",
       "                    <p/><p/>\n",
       "                    <div style=\"font-size:10px\"><b>SUBMISSION CODE</b> p9skc9uXdDbJ16wYFuZvxuSJOtLGCuea8lGvjOPKVL6HyZYf4gLTuaj38hqKJAF+/EW8uJDJwsZEM/bXu0A+C7EdcDubSbsKPOXFR9x/YL+DevAfNeY0oFhnm2rkFpFMjA0tNmIkS6IFL9VnKMxR+oIo7oW8mKgA4qW5hJF8/Gg=</div>\n",
       "                    "
      ],
      "text/plain": [
       "<IPython.core.display.HTML object>"
      ]
     },
     "metadata": {},
     "output_type": "display_data"
    }
   ],
   "source": [
    "student.submit_task(globals(), task_id=\"task_04\");"
   ]
  }
 ],
 "metadata": {
  "kernelspec": {
   "display_name": "ISI-venv",
   "language": "python",
   "name": "python3"
  },
  "language_info": {
   "codemirror_mode": {
    "name": "ipython",
    "version": 3
   },
   "file_extension": ".py",
   "mimetype": "text/x-python",
   "name": "python",
   "nbconvert_exporter": "python",
   "pygments_lexer": "ipython3",
   "version": "3.11.2"
  }
 },
 "nbformat": 4,
 "nbformat_minor": 2
}
