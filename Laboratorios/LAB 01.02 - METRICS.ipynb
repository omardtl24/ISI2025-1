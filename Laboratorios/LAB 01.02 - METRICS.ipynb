{
 "cells": [
  {
   "cell_type": "markdown",
   "metadata": {},
   "source": [
    "# LAB 01.02 - Metrics"
   ]
  },
  {
   "cell_type": "code",
   "execution_count": 1,
   "metadata": {},
   "outputs": [
    {
     "data": {
      "text/html": [
       "\n",
       "<meta name=\"google-signin-client_id\"\n",
       "      content=\"461673936472-kdjosv61up3ac1ajeuq6qqu72upilmls.apps.googleusercontent.com\"/>\n",
       "<script src=\"https://apis.google.com/js/client:platform.js?onload=google_button_start\"></script>\n",
       "    "
      ],
      "text/plain": [
       "<IPython.core.display.HTML object>"
      ]
     },
     "metadata": {},
     "output_type": "display_data"
    },
    {
     "name": "stdout",
     "output_type": "stream",
     "text": [
      "replicating local resources\n"
     ]
    },
    {
     "data": {
      "text/html": [
       "<h3>See <a href='https://m5knaekxo6.execute-api.us-west-2.amazonaws.com/dev-v0001/rlxmooc/web/login' target='_blank'>my courses and progress</a></h2>"
      ],
      "text/plain": [
       "<IPython.core.display.HTML object>"
      ]
     },
     "execution_count": 1,
     "metadata": {},
     "output_type": "execute_result"
    }
   ],
   "source": [
    "!wget --no-cache -O init.py -q https://raw.githubusercontent.com/fagonzalezo/ai4eng-unal/main/content/init.py\n",
    "import init, inspect; init.init(force_download=False); init.get_weblink()\n"
   ]
  },
  {
   "cell_type": "code",
   "execution_count": null,
   "metadata": {},
   "outputs": [],
   "source": [
    "from local.lib.rlxmoocapi import submit, session\n",
    "session.LoginSequence(endpoint=init.endpoint, course_id=init.course_id, lab_id=\"L01.02\", varname=\"student\");"
   ]
  },
  {
   "cell_type": "markdown",
   "metadata": {},
   "source": [
    "## General remark\n",
    "\n",
    "You do not need to use Python to solve the problems in this notebook, you can use any tool of your choice (Excel, etc.), including **pen and paper**. But\n",
    "\n",
    "### If you want to try out in Python\n",
    "\n",
    "- `numpy` is the Python library used for vectors\n",
    "- there are operations that take a vector and produce another vector (i.e. `np.log`)\n",
    "- there are operations that take a vector and procude a number (i.e. `np.mean`)\n",
    "- there are operations that take two vectors and produce a number (see the **HINTs** below)\n",
    "- etc.\n",
    "\n",
    "For instance"
   ]
  },
  {
   "cell_type": "code",
   "execution_count": 3,
   "metadata": {
    "scrolled": true
   },
   "outputs": [
    {
     "name": "stdout",
     "output_type": "stream",
     "text": [
      "the log   = [0.         0.69314718 1.09861229 1.38629436]\n",
      "the mean  = 2.5\n",
      "times two = [2 4 6 8]\n"
     ]
    }
   ],
   "source": [
    "import numpy as np\n",
    "\n",
    "v1 = np.array([1,2,3,4])\n",
    "\n",
    "# the log of each element of the vector\n",
    "print ( \"the log   =\", np.log(v1)  )\n",
    "\n",
    "# the mean of all elements of the vector\n",
    "print ( \"the mean  =\",  np.mean(v1)  )\n",
    "\n",
    "# multiply all elements of a vector with a scalar\n",
    "print (\"times two =\", 2*v1)"
   ]
  },
  {
   "cell_type": "markdown",
   "metadata": {},
   "source": [
    "you can always check the type of any variable "
   ]
  },
  {
   "cell_type": "code",
   "execution_count": 4,
   "metadata": {},
   "outputs": [
    {
     "data": {
      "text/plain": [
       "(numpy.ndarray, float)"
      ]
     },
     "execution_count": 4,
     "metadata": {},
     "output_type": "execute_result"
    }
   ],
   "source": [
    "a = 2.0\n",
    "type(v1), type(a)"
   ]
  },
  {
   "cell_type": "markdown",
   "metadata": {},
   "source": [
    "## Task 01. Accuracy\n",
    "\n",
    "Compute the percentage of correct predictions **accuracy** (see [here](https://en.wikipedia.org/wiki/Sensitivity_and_specificity#Definitions)) for the following model output (`predicted`) and ground truth (`actual`).\n",
    "\n",
    "Execute the following cell to generate the data from which you must compute the metric. You may compute the metric implementing python code, or manually, or copy/pasting the actual and predicted data in Excel, etc.\n",
    "\n",
    "**CHALLENGE**: use Python with [`sklearn.metrics.accuracy_score`](https://scikit-learn.org/stable/modules/generated/sklearn.metrics.accuracy_score.html#sklearn.metrics.accuracy_score)\n",
    "\n",
    "\n",
    "Observe that every time you execute the following cell, **a different set of values** is generated. You will have to compute the metric **for the values that you see**. If you run the cell again you will have to compute your metric value again."
   ]
  },
  {
   "cell_type": "code",
   "execution_count": 5,
   "metadata": {},
   "outputs": [
    {
     "name": "stdout",
     "output_type": "stream",
     "text": [
      "actual    1, 0, 0, 1, 1, 0, 1, 0, 1, 0, 1, 0, 0, 1, 1, 0, 0, 1, 1, 0\n",
      "predicted 0, 0, 0, 0, 0, 0, 1, 0, 0, 0, 0, 0, 0, 1, 1, 0, 0, 0, 0, 0\n"
     ]
    }
   ],
   "source": [
    "import numpy as np\n",
    "t1_actual    = np.random.randint(2, size=20)\n",
    "t1_predicted = np.abs(t1_actual*(np.random.random(size=20)>(np.random.random()*.9+.05)).astype(int))\n",
    "print (\"actual   \", \", \".join([str(i) for i in t1_actual]))\n",
    "print (\"predicted\", \", \".join([str(i) for i in t1_predicted]))"
   ]
  },
  {
   "cell_type": "markdown",
   "metadata": {},
   "source": [
    "Assign the value of your computation to the `accuracy` variable, **with three decimal places**"
   ]
  },
  {
   "cell_type": "code",
   "execution_count": 6,
   "metadata": {},
   "outputs": [
    {
     "name": "stdout",
     "output_type": "stream",
     "text": [
      "accuracy  0.65\n"
     ]
    }
   ],
   "source": [
    "from sklearn.metrics import accuracy_score\n",
    "\n",
    "accuracy = accuracy_score(t1_actual, t1_predicted)\n",
    "print (\"accuracy \", accuracy)"
   ]
  },
  {
   "cell_type": "markdown",
   "metadata": {},
   "source": [
    "#### submit your answer"
   ]
  },
  {
   "cell_type": "code",
   "execution_count": 7,
   "metadata": {},
   "outputs": [
    {
     "data": {
      "text/html": [
       "\n",
       "                    <b>task_01 submitted.</b> <b><font color=\"blue\">your grade is 5</font></b> \n",
       "                    <p/><pre>----- grader message -------</pre><b>correct</b><pre>----------------------------</pre>\n",
       "                    <p/><p/>\n",
       "                    <div style=\"font-size:10px\"><b>SUBMISSION CODE</b> yYedYRVVpZYRZiqn7l5ly+vxsSsZ19jJ9InCfeCIIzgWCCFBS2Vepqrmw4lI1Qpb6uZtIhHobFUZWtx2izVqu1fxjp00XPMZ7QSUmdNSe3iRVRjDusk7XyFaeVT0Y6nsmPb6kpgK5gnH0UIp60qCXIBkd3cf07eCMwBsgW0+wSo=</div>\n",
       "                    "
      ],
      "text/plain": [
       "<IPython.core.display.HTML object>"
      ]
     },
     "metadata": {},
     "output_type": "display_data"
    }
   ],
   "source": [
    "student.submit_task(globals(), task_id=\"task_01\");"
   ]
  },
  {
   "cell_type": "markdown",
   "metadata": {},
   "source": [
    "## Task 2: Sensitivity\n",
    "\n",
    "Compute the sensitivity metric [aka the _True Positive Rate_ or _Recall_ see [Sensitivity on Wikipedia](https://en.wikipedia.org/wiki/Sensitivity_and_specificity)] for the following model output (`predicted`) and ground truth (`actual`)\n",
    "\n",
    "Execute the following cell to generate the data from which you must compute the metric. You may compute the metric implementing python code, or manually, or copy/pasting the actual and predicted data in Excel, etc.\n",
    "\n",
    "**Challenge**: Use Python [`sklearn.metrics.recall_score`](https://scikit-learn.org/stable/modules/generated/sklearn.metrics.recall_score.html)\n",
    "\n",
    "\n",
    "Observe that every time you execute the following cell, **a different set of values** is generated. You will have to compute the metric **for the values that you see**. If you run the cell again you will have to compute your metric value again."
   ]
  },
  {
   "cell_type": "code",
   "execution_count": 8,
   "metadata": {},
   "outputs": [
    {
     "name": "stdout",
     "output_type": "stream",
     "text": [
      "actual    1, 0, 0, 1, 0, 1, 0, 0, 0, 1, 1, 1, 1, 0, 1, 1, 0, 0, 1, 0\n",
      "predicted 0, 1, 1, 1, 1, 0, 1, 1, 1, 0, 0, 0, 1, 1, 1, 0, 0, 0, 1, 1\n"
     ]
    }
   ],
   "source": [
    "import numpy as np\n",
    "t2_predicted = np.random.randint(2, size=20)\n",
    "t2_actual = np.random.randint(2, size=20)\n",
    "t2_predicted[np.argwhere(t2_actual==1)[0][0]]=0\n",
    "print (\"actual   \", \", \".join([str(i) for i in t2_actual]))\n",
    "print (\"predicted\", \", \".join([str(i) for i in t2_predicted]))"
   ]
  },
  {
   "cell_type": "markdown",
   "metadata": {},
   "source": [
    "Assign the value of your computation to the `tpr` variable **with three decimal places**"
   ]
  },
  {
   "cell_type": "code",
   "execution_count": 9,
   "metadata": {},
   "outputs": [
    {
     "name": "stdout",
     "output_type": "stream",
     "text": [
      "sensitivity  0.4\n"
     ]
    }
   ],
   "source": [
    "from sklearn.metrics import recall_score\n",
    "\n",
    "tpr = recall_score(t2_actual, t2_predicted)\n",
    "print (\"sensitivity \", tpr)"
   ]
  },
  {
   "cell_type": "markdown",
   "metadata": {},
   "source": [
    "#### submit your answer"
   ]
  },
  {
   "cell_type": "code",
   "execution_count": 10,
   "metadata": {
    "scrolled": true
   },
   "outputs": [
    {
     "data": {
      "text/html": [
       "\n",
       "                    <b>task_02 submitted.</b> <b><font color=\"blue\">your grade is 5</font></b> \n",
       "                    <p/><pre>----- grader message -------</pre><b>correct</b><pre>----------------------------</pre>\n",
       "                    <p/><p/>\n",
       "                    <div style=\"font-size:10px\"><b>SUBMISSION CODE</b> RcIAJPNibB5uixIdKU62Znl3g/SLBxYnKtY+3ERTw7TRSGtUpguFsRjBddlX8I7FSY3EwBbhneaDASofpLMGxIHjvX+xl2JF32AWvvX8L8FaWrkOw2K0Ez4JbTeQ3Zdpe0MjwUrjqSNx3ZExjRhY9o0d2gbouxPuFkYQRgS1uqs=</div>\n",
       "                    "
      ],
      "text/plain": [
       "<IPython.core.display.HTML object>"
      ]
     },
     "metadata": {},
     "output_type": "display_data"
    }
   ],
   "source": [
    "student.submit_task(globals(), task_id=\"task_02\");"
   ]
  },
  {
   "cell_type": "markdown",
   "metadata": {},
   "source": [
    "## Task 3: Evaluation in New York City Taxi Trip Duration Kaggle Competition\n",
    "\n",
    "Understand the data and the evaluation metric (**Root Mean Squared Logarithmic Error**, RMSLE) of the following Kaggle competition\n",
    "\n",
    "- [https://www.kaggle.com/c/nyc-taxi-trip-duration/](https://www.kaggle.com/c/nyc-taxi-trip-duration/)\n",
    "\n",
    "Observe that this competition is a **regression task** as we are measuring the difference in prediction with respect to the actual.\n",
    "\n",
    "For instance, the following model predictions and ground truth:\n",
    "\n",
    "    actual    [66 37 22]\n",
    "    predicted [79 51 67]\n",
    "    \n",
    "produce a **RMSLE** of 0.66 aprox.\n",
    "\n",
    "Execute the following cell to generate the data from which you must compute the metric. You may compute the metric implementing python code, or manually, or copy/pasting the actual and predicted data in Excel, etc.\n",
    "\n",
    "**Challenge**: For python use numpy function `np.log` or `np.log1p`\n",
    "\n",
    "Observe that every time you execute the following cell, **a different set of values** is generated. You will have to compute the metric **for the values that you see**. If you run the cell again you will have to compute your metric value again."
   ]
  },
  {
   "cell_type": "code",
   "execution_count": 11,
   "metadata": {},
   "outputs": [
    {
     "name": "stdout",
     "output_type": "stream",
     "text": [
      "actual    [55 20 56 30 50 41 59 65 40 57 36 62 47 22 73]\n",
      "predicted [72 96 97 30 20 99 24 20 31 35 33 57 73 51 74]\n"
     ]
    }
   ],
   "source": [
    "t3_actual    = np.random.randint(80,size=15)+20\n",
    "t3_predicted = np.random.randint(80,size=15)+20\n",
    "print (\"actual   \", t3_actual)\n",
    "print (\"predicted\", t3_predicted)"
   ]
  },
  {
   "cell_type": "markdown",
   "metadata": {},
   "source": [
    "Assign the value of your computation to the `rmsle` variable **with three decimal places**"
   ]
  },
  {
   "cell_type": "markdown",
   "metadata": {},
   "source": [
    "The `RMSLE` is calculated as\n",
    "\n",
    "$$ϵ= \\sqrt{ \\dfrac{1}{n}  \\sum_{i=1}^{n} \\left( \\log{(p_i + 1)} - \\log{(a_i + 1)} \\right)^{2}}$$\n",
    "\n",
    "Where:\n",
    "\n",
    "$\\epsilon$ is the RMSLE value (score)\n",
    "\n",
    "$n$ is the total number of observations in the (public/private) data set,\n",
    "\n",
    "$p_i$ is your prediction of trip duration, and\n",
    "\n",
    "$a_i$ is the actual trip duration for $i$.\n",
    "\n",
    "$\\log(x)$ is the natural logarithm of $x$"
   ]
  },
  {
   "cell_type": "code",
   "execution_count": 12,
   "metadata": {},
   "outputs": [],
   "source": [
    "rmsle = np.sqrt(\n",
    "    np.mean(\n",
    "        (  np.log(t3_predicted + 1)  - np.log(t3_actual + 1)) ** 2\n",
    "    )\n",
    ")"
   ]
  },
  {
   "cell_type": "markdown",
   "metadata": {},
   "source": [
    "#### submit your answer"
   ]
  },
  {
   "cell_type": "code",
   "execution_count": 13,
   "metadata": {
    "scrolled": false
   },
   "outputs": [
    {
     "data": {
      "text/html": [
       "\n",
       "                    <b>task_03 submitted.</b> <b><font color=\"blue\">your grade is 5</font></b> \n",
       "                    <p/><pre>----- grader message -------</pre><b>correct</b><pre>----------------------------</pre>\n",
       "                    <p/><p/>\n",
       "                    <div style=\"font-size:10px\"><b>SUBMISSION CODE</b> Al5pC7jTloPnWIkgF83ILTsEWc8Z+JKYUT57+bKjqhR1Zi48IIHvctZBW86E8wbBTC2Kmu2NnL3CAsgzQu6swI7xs50lRZMlI3gImTunPcuy+96/HHVpWB/sYZo9S/HGQmboC66fNubqAJdCpQmyWbS4+l/B9o4/5/lOIX5CoPo=</div>\n",
       "                    "
      ],
      "text/plain": [
       "<IPython.core.display.HTML object>"
      ]
     },
     "metadata": {},
     "output_type": "display_data"
    }
   ],
   "source": [
    "student.submit_task(globals(), task_id=\"task_03\");"
   ]
  },
  {
   "cell_type": "markdown",
   "metadata": {},
   "source": [
    "## Task 4: Evaluation in Shelter Animal Outcomes Kaggle Competition\n",
    "\n",
    "Understand the data and the evaluation metric (**Multiclass Logaritmic Loss**, _logloss_) of the following Kaggle competition\n",
    "\n",
    "- [https://www.kaggle.com/c/shelter-animal-outcomes/](https://www.kaggle.com/c/shelter-animal-outcomes/)\n",
    "\n",
    "Observe that this competition is a **classification task with 5 classes** and, for each item, the model produces a probability for each class. Classes are numbered from 0 to 4.\n",
    "\n",
    "For instance, the following represents the model output for **three items**\n",
    "\n",
    "    [[0.17 0.27 0.03 0.31 0.21]\n",
    "     [0.09 0.44 0.02 0.15 0.3 ]\n",
    "     [0.26 0.18 0.25 0.2  0.11]]\n",
    "     \n",
    "Where the classes with gretest probability assigned by the model are \n",
    "\n",
    "- class 3 for the first item (with 0.31 probability) \n",
    "- class 1 for the second item (with 0.44 probability)\n",
    "- class 0 for the third item (with 0.26 probability)\n",
    "\n",
    "The class labels are expressed as a similar matrix, but with 0/1\n",
    "For instance, the ground truth for the corresponding three items above, could be:\n",
    "\n",
    "    [[0 0 0 1 0]\n",
    "     [0 0 1 0 0]\n",
    "     [1 0 0 0 0]]\n",
    "\n",
    "and will produce a **logloss** of approx 2.14\n",
    "\n",
    "Execute the following cell to generate the data from which you must compute the metric. You may compute the metric implementing python code, or manually, or copy/pasting the actual and predicted data in Excel, etc."
   ]
  },
  {
   "cell_type": "code",
   "execution_count": 14,
   "metadata": {},
   "outputs": [
    {
     "name": "stdout",
     "output_type": "stream",
     "text": [
      "actual\n",
      "[[1 0 0 0 0]\n",
      " [0 1 0 0 0]\n",
      " [0 1 0 0 0]\n",
      " [0 0 1 0 0]\n",
      " [0 0 1 0 0]\n",
      " [0 0 0 0 1]\n",
      " [0 1 0 0 0]]\n",
      "\n",
      "predicted\n",
      "[[0.18 0.18 0.21 0.21 0.22]\n",
      " [0.15 0.26 0.16 0.21 0.23]\n",
      " [0.14 0.31 0.2  0.12 0.23]\n",
      " [0.2  0.22 0.27 0.14 0.16]\n",
      " [0.17 0.21 0.18 0.24 0.2 ]\n",
      " [0.2  0.27 0.17 0.18 0.18]\n",
      " [0.13 0.21 0.23 0.25 0.18]]\n"
     ]
    }
   ],
   "source": [
    "import numpy as np\n",
    "\n",
    "t4_predicted = np.random.random(size=(7,5)).T+0.5\n",
    "t4_predicted = np.round((t4_predicted/np.sum(t4_predicted,axis=0)),2).T\n",
    "\n",
    "t4_actual = np.eye(5)[np.random.randint(5,size=len(t4_predicted))].astype(int)\n",
    "\n",
    "print (\"actual\")\n",
    "print (t4_actual)\n",
    "print (\"\\npredicted\")\n",
    "print (t4_predicted)"
   ]
  },
  {
   "cell_type": "markdown",
   "metadata": {},
   "source": [
    "Assign the value of your computation to the `logloss` variable **with three decimal places**"
   ]
  },
  {
   "cell_type": "markdown",
   "metadata": {},
   "source": [
    "The `logloss` is defined as:\n",
    "\n",
    "$$ logloss =  -\\dfrac{1}{N} \\sum_{i=1}^{N}\\sum_{j=1}^{M} y_{ij} \\log{p_{ij}}$$\n",
    "\n",
    "where:\n",
    "\n",
    "$N$ is the number of animals in the test set,\n",
    "\n",
    "$M$ is the number of outcomes\n",
    "\n",
    "$y_{ij}$ is 1 if observation $i$ is in outcome $j$ and 0 otherwise, and \n",
    "\n",
    "$p_{ij}$ is the predicted probability that observation $i$ belongs to outcome $j$."
   ]
  },
  {
   "cell_type": "code",
   "execution_count": 15,
   "metadata": {},
   "outputs": [],
   "source": [
    "logloss = -np.mean(\n",
    "    np.sum(\n",
    "        t4_actual * np.log(t4_predicted)\n",
    "        ,axis=1\n",
    "    )\n",
    ")"
   ]
  },
  {
   "cell_type": "markdown",
   "metadata": {},
   "source": [
    "#### submit your answer"
   ]
  },
  {
   "cell_type": "code",
   "execution_count": 16,
   "metadata": {
    "scrolled": false
   },
   "outputs": [
    {
     "data": {
      "text/html": [
       "\n",
       "                    <b>task_04 submitted.</b> <b><font color=\"blue\">your grade is 5</font></b> \n",
       "                    <p/><pre>----- grader message -------</pre><b>correct</b><pre>----------------------------</pre>\n",
       "                    <p/><p/>\n",
       "                    <div style=\"font-size:10px\"><b>SUBMISSION CODE</b> qmCLDlF1i/cBzq6rkR+89ykwt+DtdcCwDnBQjsY13qZ0SvQnN2pcokjZ/i6dFEgjorAb/El4qXntpUaEdHpjB4pPEC5QlaK7433hdpN+rVaIXtwABMMx5bVxpkN2HkvOUGOW/m+NQ1gFMAyD71cxCA17gl7CVh7sVSv9+D5e45A=</div>\n",
       "                    "
      ],
      "text/plain": [
       "<IPython.core.display.HTML object>"
      ]
     },
     "metadata": {},
     "output_type": "display_data"
    }
   ],
   "source": [
    "student.submit_task(globals(), task_id=\"task_04\");"
   ]
  }
 ],
 "metadata": {
  "kernelspec": {
   "display_name": "ISI-venv",
   "language": "python",
   "name": "python3"
  },
  "language_info": {
   "codemirror_mode": {
    "name": "ipython",
    "version": 3
   },
   "file_extension": ".py",
   "mimetype": "text/x-python",
   "name": "python",
   "nbconvert_exporter": "python",
   "pygments_lexer": "ipython3",
   "version": "3.11.2"
  }
 },
 "nbformat": 4,
 "nbformat_minor": 2
}
