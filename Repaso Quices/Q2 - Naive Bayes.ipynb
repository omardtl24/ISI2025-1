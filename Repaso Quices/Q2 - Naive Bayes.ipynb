{
 "cells": [
  {
   "cell_type": "markdown",
   "id": "a6ab5439",
   "metadata": {},
   "source": [
    "# Quiz 2 - Naïve Bayes"
   ]
  },
  {
   "cell_type": "code",
   "execution_count": 1,
   "id": "88d1a325",
   "metadata": {},
   "outputs": [],
   "source": [
    "import sys\n",
    "\n",
    "sys.path.append(\"..\")\n",
    "\n",
    "from AI_algorithms.ml.supervised.bayesian import GaussianNB\n",
    "from AI_algorithms.utils.data import parse_table\n",
    "import numpy as np\n",
    "import pandas as pd"
   ]
  },
  {
   "cell_type": "markdown",
   "id": "6a225f9c",
   "metadata": {},
   "source": [
    "Dado el siguiente conjunto de datos:"
   ]
  },
  {
   "cell_type": "code",
   "execution_count": 2,
   "id": "f8db1a5f",
   "metadata": {},
   "outputs": [],
   "source": [
    "data_str = \"\"\"\n",
    "id\tx0\tx1\tx2\tC\n",
    "0\t0\t1\t0\t0\n",
    "1\t1\t1\t0\t1\n",
    "2\t0\t1\t0\t1\n",
    "3\t0\t0\t1\t0\n",
    "4\t1\t0\t0\t1\n",
    "5\t1\t1\t1\t1\n",
    "6\t1\t0\t1\t1\n",
    "7\t0\t0\t1\t1\n",
    "\"\"\"\n",
    "\n",
    "df = parse_table(data_str, index=True, target=True, columns=True,target_name='C')\n",
    "df = df.astype({'x0': 'int', 'x1': 'int', 'x2': 'int', 'C': 'int'})"
   ]
  },
  {
   "cell_type": "code",
   "execution_count": 3,
   "id": "f99615c4",
   "metadata": {},
   "outputs": [
    {
     "name": "stdout",
     "output_type": "stream",
     "text": [
      "Model fitted successfully\n"
     ]
    }
   ],
   "source": [
    "X = df.drop(columns=['C'])\n",
    "y = df['C']\n",
    "model = GaussianNB()\n",
    "model.fit(X, y, discrete=['x0','x1','x2'])\n",
    "\n",
    "assert model.priors is not None , \"Model did not fit properly\"\n",
    "print('Model fitted successfully')"
   ]
  },
  {
   "cell_type": "markdown",
   "id": "adb97152",
   "metadata": {},
   "source": [
    "Calcule $P(x_2=0 | C=1)$:"
   ]
  },
  {
   "cell_type": "code",
   "execution_count": 30,
   "id": "b1536f51",
   "metadata": {},
   "outputs": [
    {
     "name": "stdout",
     "output_type": "stream",
     "text": [
      "P( x2 = 0 | C = 1) = 0.50\n"
     ]
    }
   ],
   "source": [
    "x2_val = 0\n",
    "C = 1\n",
    "feature_index = np.where(model.features == 'x2')[0][0]\n",
    "class_index = np.where(model.classes == C)[0][0]\n",
    "\n",
    "prob_index = (class_index,feature_index)\n",
    "\n",
    "prob = model.discrete_probs[prob_index][x2_val]\n",
    "\n",
    "print(f'P( x2 = {x2_val} | C = 1) = {prob:.2f}')"
   ]
  },
  {
   "cell_type": "markdown",
   "id": "76a8fd8e",
   "metadata": {},
   "source": [
    "Dado un ejemplo $x = (1, 1, 1)$\n",
    "\n",
    "Calcule la probabilidad $P(C=1|x)$:"
   ]
  },
  {
   "cell_type": "code",
   "execution_count": 13,
   "id": "ac4bc469",
   "metadata": {},
   "outputs": [
    {
     "name": "stdout",
     "output_type": "stream",
     "text": [
      "P( C = 0 | x = ( 1, 1, 1 ) ) = 0.00\n",
      "P( C = 1 | x = ( 1, 1, 1 ) ) = 1.00\n"
     ]
    }
   ],
   "source": [
    "sample = np.array([1, 1, 1])\n",
    "pred = model.predict_proba(sample).flatten()\n",
    "for i,class_ in enumerate(model.classes):\n",
    "    print(f'P( C = {class_} | x = ( {\", \".join(sample.astype(str))} ) ) = {pred[i]:.2f}')"
   ]
  }
 ],
 "metadata": {
  "kernelspec": {
   "display_name": "ISI-venv",
   "language": "python",
   "name": "python3"
  },
  "language_info": {
   "codemirror_mode": {
    "name": "ipython",
    "version": 3
   },
   "file_extension": ".py",
   "mimetype": "text/x-python",
   "name": "python",
   "nbconvert_exporter": "python",
   "pygments_lexer": "ipython3",
   "version": "3.11.2"
  }
 },
 "nbformat": 4,
 "nbformat_minor": 5
}
